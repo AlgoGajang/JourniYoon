{
 "cells": [
  {
   "cell_type": "code",
   "execution_count": null,
   "metadata": {},
   "outputs": [],
   "source": [
    "def solution(n,a,b):\n",
    "    answer = 0\n",
    "    a , b = a - 1, b - 1\n",
    "    while True:\n",
    "      mid = (n // 2)\n",
    "\n",
    "      if a // mid is not b // mid:\n",
    "        while n > 1:\n",
    "          n //= 2\n",
    "          answer += 1\n",
    "        break\n",
    "\n",
    "      if a // mid > 0:\n",
    "        a -= mid\n",
    "        b -= mid\n",
    "      n //= 2\n",
    "\n",
    "    return answer"
   ]
  },
  {
   "cell_type": "code",
   "execution_count": 21,
   "metadata": {},
   "outputs": [
    {
     "name": "stdout",
     "output_type": "stream",
     "text": [
      "2\n",
      "3\n",
      "2\n",
      "3\n",
      "2\n",
      "3\n",
      "1\n",
      "4\n"
     ]
    }
   ],
   "source": [
    "var solution = (n,a,b) => {\n",
    "  let mid = n/2;\n",
    "  let result = 1; \n",
    "  if((a<=mid && b<=mid) || (a> mid && b > mid)) {\n",
    "    result -= 1;\n",
    "  }\n",
    "  while(mid > 1 ) {\n",
    "    // result++;\n",
    "    if ( (Math.abs(a - b) === 1) && a % 2 !== 0) {\n",
    "      result++;\n",
    "      console.log(\"1\")\n",
    "      return result\n",
    "    } else {\n",
    "      a = Math.ceil(a/2);\n",
    "      b = Math.ceil(b/2);\n",
    "      result++;\n",
    "      console.log(\"2\")\n",
    "    }\n",
    "    mid /= 2; \n",
    "    console.log(\"3\")\n",
    "  }\n",
    "  return result;\n",
    "}\n",
    "console.log(solution(64,1,16)); // 3"
   ]
  }
 ],
 "metadata": {
  "kernelspec": {
   "display_name": "JavaScript (Node.js)",
   "language": "javascript",
   "name": "javascript"
  },
  "language_info": {
   "file_extension": ".js",
   "mimetype": "application/javascript",
   "name": "javascript",
   "version": "16.15.1"
  },
  "orig_nbformat": 4,
  "vscode": {
   "interpreter": {
    "hash": "7e1998ff7f8aa20ada591c520b972326324e5ea05489af9e422744c7c09f6dad"
   }
  }
 },
 "nbformat": 4,
 "nbformat_minor": 2
}
