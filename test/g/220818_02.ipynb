{
 "cells": [
  {
   "cell_type": "markdown",
   "metadata": {},
   "source": [
    "문제\n",
    "\n",
    "2019년 1월 6일에 임대할 수 있고, 후기가 달린 공간의 아이디와 이름을 조회하는 SQL문을 작성해주세요. 이때 결과는 공간의 아이디를 오름차순으로 정렬해주세요.\n"
   ]
  },
  {
   "cell_type": "code",
   "execution_count": null,
   "metadata": {
    "vscode": {
     "languageId": "sql"
    }
   },
   "outputs": [],
   "source": [
    "SELECT PL.ID, PL.NAME, SC.SCHEDULED_AT\n",
    "FROM PLACES AS PL\n",
    "INNER JOIN SCHEDULES AS SC\n",
    "ON PL.ID = SC.PLACE_ID\n",
    "INNER JOIN PLACE_REVIEWS AS PR\n",
    "ON SC.PLACE_ID = PR.PLACE_ID\n",
    "WHERE DATE_FORMAT(SCHEDULED_AT, '%Y-%m-%d') = '2019-01-06'\n"
   ]
  },
  {
   "cell_type": "code",
   "execution_count": null,
   "metadata": {
    "vscode": {
     "languageId": "sql"
    }
   },
   "outputs": [],
   "source": [
    "SELECT DISTINCT SCHEDULES.PLACE_ID, SCHEDULES.SCHEDULED_AT   FROM PLACE_REVIEWS\n",
    "INNER JOIN SCHEDULES\n",
    "ON SCHEDULES.PLACE_ID = PLACE_REVIEWS.PLACE_ID\n",
    "WHERE PLACE_REVIEWS.PLACE_ID = '22002927'\n",
    "ORDER BY SCHEDULES.SCHEDULED_AT ASC;"
   ]
  },
  {
   "cell_type": "code",
   "execution_count": null,
   "metadata": {
    "vscode": {
     "languageId": "sql"
    }
   },
   "outputs": [],
   "source": [
    "SELECT PL.ID, PL.NAME, SC.SCHEDULED_AT\n",
    "FROM PLACES AS PL\n",
    "INNER JOIN SCHEDULES AS SC\n",
    "ON PL.ID = SC.PLACE_ID\n",
    "LEFT JOIN PLACE_REVIEWS AS PR\n",
    "ON SC.PLACE_ID = PR.PLACE_ID\n",
    "HAVING DATE_FORMAT(SCHEDULED_AT, '%Y-%m-%d') = '2019-01-06'"
   ]
  },
  {
   "cell_type": "code",
   "execution_count": null,
   "metadata": {
    "vscode": {
     "languageId": "sql"
    }
   },
   "outputs": [],
   "source": [
    "SELECT PL.ID, PL.NAME, SC.SCHEDULED_AT\n",
    "FROM SCHEDULES AS SC\n",
    "INNER JOIN PLACES AS PL\n",
    "ON PL.ID = SC.PLACE_ID AND DATE_FORMAT(SCHEDULED_AT, '%Y-%m-%d') = '2019-01-06'\n",
    "RIGHT JOIN PLACE_REVIEWS AS PR\n",
    "ON SC.PLACE_ID = PR.PLACE_ID\n"
   ]
  },
  {
   "cell_type": "code",
   "execution_count": null,
   "metadata": {
    "vscode": {
     "languageId": "sql"
    }
   },
   "outputs": [],
   "source": [
    "SELECT P.ID, P.NAME, S.SCHEDULED_AT\n",
    "FROM SCHEDULES AS S\n",
    "INNER JOIN \n",
    "    (SELECT S.PLACE_ID\n",
    "    FROM SCHEDULES AS S\n",
    "    INNER JOIN PLACE_REVIEWS AS R\n",
    "    ON S.PLACE_ID = R.PLACE_ID) PLACES AS P\n",
    "ON DATE_FORMAT(SCHEDULED_AT, '%Y-%m-%d') = '2019-01-06'\n",
    "WHERE P.ID = S.PLACE_ID;\n"
   ]
  },
  {
   "cell_type": "code",
   "execution_count": null,
   "metadata": {
    "vscode": {
     "languageId": "sql"
    }
   },
   "outputs": [],
   "source": [
    "SELECT PL.ID, PL.NAME, SC.SCHEDULED_AT\n",
    "FROM PLACES AS PL\n",
    "INNER JOIN SCHEDULES AS SC\n",
    "ON PL.ID = SC.PLACE_ID AND DATE_FORMAT(SCHEDULED_AT, '%Y-%m-%d') = '2019-01-06'\n",
    "RIGHT JOIN PLACE_REVIEWS AS PR\n",
    "ON PR.PLACE_ID = SC.PLACE_ID"
   ]
  },
  {
   "cell_type": "code",
   "execution_count": null,
   "metadata": {
    "vscode": {
     "languageId": "sql"
    }
   },
   "outputs": [],
   "source": [
    "SELECT DISTINCT PL.ID, PL.NAME\n",
    "FROM PLACES AS PL\n",
    "INNER JOIN SCHEDULES AS SC\n",
    "ON PL.ID = SC.PLACE_ID\n",
    "INNER JOIN PLACE_REVIEWS AS PR\n",
    "ON SC.PLACE_ID = PR.PLACE_ID\n",
    "WHERE DATE_FORMAT(SCHEDULED_AT, '%Y-%m-%d') = '2019-01-06'\n",
    "ORDER BY PL.ID ASC;\n",
    "\n"
   ]
  }
 ],
 "metadata": {
  "kernelspec": {
   "display_name": "Python 3.10.6 64-bit",
   "language": "python",
   "name": "python3"
  },
  "language_info": {
   "name": "python",
   "version": "3.10.6"
  },
  "orig_nbformat": 4,
  "vscode": {
   "interpreter": {
    "hash": "7e1998ff7f8aa20ada591c520b972326324e5ea05489af9e422744c7c09f6dad"
   }
  }
 },
 "nbformat": 4,
 "nbformat_minor": 2
}
