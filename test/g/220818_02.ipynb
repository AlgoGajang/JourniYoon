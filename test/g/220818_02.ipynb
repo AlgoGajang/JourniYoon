{
 "cells": [
  {
   "cell_type": "markdown",
   "metadata": {},
   "source": [
    "문제\n",
    "\n",
    "2019년 1월 6일에 임대할 수 있고, 후기가 달린 공간의 아이디와 이름을 조회하는 SQL문을 작성해주세요. 이때 결과는 공간의 아이디를 오름차순으로 정렬해주세요.\n"
   ]
  },
  {
   "cell_type": "code",
   "execution_count": null,
   "metadata": {
    "vscode": {
     "languageId": "sql"
    }
   },
   "outputs": [],
   "source": [
    "SELECT DISTINCT PL.ID, PL.NAME\n",
    "FROM PLACES AS PL\n",
    "INNER JOIN SCHEDULES AS SC\n",
    "ON PL.ID = SC.PLACE_ID\n",
    "INNER JOIN PLACE_REVIEWS AS PR\n",
    "ON SC.PLACE_ID = PR.PLACE_ID\n",
    "WHERE DATE_FORMAT(SCHEDULED_AT, '%Y-%m-%d') = '2019-01-06'\n",
    "ORDER BY PL.ID ASC;"
   ]
  }
 ],
 "metadata": {
  "kernelspec": {
   "display_name": "Python 3.10.6 64-bit",
   "language": "python",
   "name": "python3"
  },
  "language_info": {
   "name": "python",
   "version": "3.10.6"
  },
  "orig_nbformat": 4,
  "vscode": {
   "interpreter": {
    "hash": "7e1998ff7f8aa20ada591c520b972326324e5ea05489af9e422744c7c09f6dad"
   }
  }
 },
 "nbformat": 4,
 "nbformat_minor": 2
}
