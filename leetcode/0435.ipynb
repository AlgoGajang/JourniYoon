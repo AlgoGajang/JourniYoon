{
 "cells": [
  {
   "cell_type": "markdown",
   "metadata": {},
   "source": [
    "# [435. Non-overlapping Intervals](https://leetcode.com/problems/non-overlapping-intervals/)\n",
    "\n",
    "Given an array of intervals `intervals` where `intervals[i] = [start<sub>i</sub>, end<sub>i</sub>]`, return *the minimum number of intervals you need to remove to make the rest of the intervals non-overlapping* .\n",
    "\n",
    "**Example 1:**\n",
    "\n",
    "<pre><strong>Input:</strong> intervals = [[1,2],[2,3],[3,4],[1,3]]\n",
    "<strong>Output:</strong> 1\n",
    "<strong>Explanation:</strong> [1,3] can be removed and the rest of the intervals are non-overlapping.\n",
    "</pre>\n",
    "\n",
    "**Example 2:**\n",
    "\n",
    "<pre><strong>Input:</strong> intervals = [[1,2],[1,2],[1,2]]\n",
    "<strong>Output:</strong> 2\n",
    "<strong>Explanation:</strong> You need to remove two [1,2] to make the rest of the intervals non-overlapping.\n",
    "</pre>\n",
    "\n",
    "**Example 3:**\n",
    "\n",
    "<pre><strong>Input:</strong> intervals = [[1,2],[2,3]]\n",
    "<strong>Output:</strong> 0\n",
    "<strong>Explanation:</strong> You don't need to remove any of the intervals since they're already non-overlapping.\n",
    "</pre>\n",
    "\n",
    "**Constraints:**\n",
    "\n",
    "* `1 <= intervals.length <= 10<sup>5</sup>`\n",
    "* `intervals[i].length == 2`\n",
    "* `-5 * 10<sup>4</sup><span> </span><= start<sub>i</sub><span> </span>< end<sub>i</sub><span> </span><= 5 * 10<sup>4</sup>`\n",
    "\n",
    "## 풀이\n",
    "- Greedy\n",
    "- Dynamic Programming\n",
    "- Sorting"
   ]
  },
  {
   "cell_type": "code",
   "execution_count": null,
   "metadata": {},
   "outputs": [],
   "source": [
    "class Solution:\n",
    "  def eraseOverlapIntervals(self, intervals: List[List[int]]) -> int:\n",
    "    intervals = sorted(intervals, key=lambda x: x[1])\n",
    "    \n",
    "    prev = intervals.pop(0)\n",
    "      \n",
    "    for interval in intervals:\n",
    "      currS, currE = interval\n",
    "\n",
    "      if prev[1] > currS:\n",
    "        res += 1\n",
    "      else:\n",
    "        prev = interval\n",
    "    return res"
   ]
  }
 ],
 "metadata": {
  "kernelspec": {
   "display_name": "Python 3.8.10 64-bit",
   "language": "python",
   "name": "python3"
  },
  "language_info": {
   "name": "python",
   "version": "3.8.10"
  },
  "orig_nbformat": 4,
  "vscode": {
   "interpreter": {
    "hash": "31f2aee4e71d21fbe5cf8b01ff0e069b9275f58929596ceb00d14d90e3e16cd6"
   }
  }
 },
 "nbformat": 4,
 "nbformat_minor": 2
}
