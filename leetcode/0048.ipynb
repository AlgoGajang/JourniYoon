{
 "cells": [
  {
   "cell_type": "markdown",
   "metadata": {},
   "source": [
    "# [48. Rotate Image](https://leetcode.com/problems/rotate-image/)\n",
    "\n",
    "You are given an `n x n` 2D `matrix` representing an image, rotate the image by **90** degrees (clockwise).\n",
    "\n",
    "You have to rotate the image [**in-place**](https://en.wikipedia.org/wiki/In-place_algorithm), which means you have to modify the input 2D matrix directly. **DO NOT** allocate another 2D matrix and do the rotation.\n",
    "\n",
    "**Example 1:**\n",
    "\n",
    "![](https://assets.leetcode.com/uploads/2020/08/28/mat1.jpg)\n",
    "\n",
    "<pre><strong>Input:</strong> matrix = [[1,2,3],[4,5,6],[7,8,9]]\n",
    "<strong>Output:</strong> [[7,4,1],[8,5,2],[9,6,3]]\n",
    "</pre>\n",
    "\n",
    "**Example 2:**\n",
    "\n",
    "![](https://assets.leetcode.com/uploads/2020/08/28/mat2.jpg)\n",
    "\n",
    "<pre><strong>Input:</strong> matrix = [[5,1,9,11],[2,4,8,10],[13,3,6,7],[15,14,12,16]]\n",
    "<strong>Output:</strong> [[15,13,2,5],[14,3,4,1],[12,6,8,9],[16,7,10,11]]\n",
    "</pre>\n",
    "\n",
    "**Constraints:**\n",
    "\n",
    "* `n == matrix.length == matrix[i].length`\n",
    "* `1 <= n <= 20`\n",
    "* `-1000 <= matrix[i][j] <= 1000`\n",
    "\n",
    "## 풀이\n",
    "4개의 셀로 구성된 각 그룹을 반복하고 회전한다. \n"
   ]
  },
  {
   "cell_type": "code",
   "execution_count": null,
   "metadata": {},
   "outputs": [],
   "source": [
    "class Solution:\n",
    "  def rotate(self, matrix: List[List[int]]) -> None:\n",
    "    n = len(matrix[0])\n",
    "    for i in range(n // 2 + n % 2):\n",
    "      for j in range(n // 2):\n",
    "        temp = matrix[n - 1 - j][i]\n",
    "        matrix[n - 1 - j][i] = matrix[n - 1 - i][n - j - 1]\n",
    "        matrix[n - 1 - i][n - j - 1] = matrix[j][n - 1 - i]\n",
    "        matrix[j][n - 1 - i] = matrix[i][j]\n",
    "        matrix[i][j] = temp"
   ]
  }
 ],
 "metadata": {
  "kernelspec": {
   "display_name": "Python 3.8.10 64-bit",
   "language": "python",
   "name": "python3"
  },
  "language_info": {
   "name": "python",
   "version": "3.8.10"
  },
  "orig_nbformat": 4,
  "vscode": {
   "interpreter": {
    "hash": "31f2aee4e71d21fbe5cf8b01ff0e069b9275f58929596ceb00d14d90e3e16cd6"
   }
  }
 },
 "nbformat": 4,
 "nbformat_minor": 2
}
