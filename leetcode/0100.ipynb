{
 "cells": [
  {
   "cell_type": "markdown",
   "metadata": {},
   "source": [
    "# [100. Same Tree](https://leetcode.com/problems/same-tree/)\n",
    "\n",
    "Given the roots of two binary trees `p` and `q`, write a function to check if they are the same or not.\n",
    "\n",
    "Two binary trees are considered the same if they are structurally identical, and the nodes have the same value.\n",
    "\n",
    "**Example 1:**\n",
    "\n",
    "![](https://assets.leetcode.com/uploads/2020/12/20/ex1.jpg)\n",
    "\n",
    "<pre><strong>Input:</strong> p = [1,2,3], q = [1,2,3]\n",
    "<strong>Output:</strong> true\n",
    "</pre>\n",
    "\n",
    "**Example 2:**\n",
    "\n",
    "![](https://assets.leetcode.com/uploads/2020/12/20/ex2.jpg)\n",
    "\n",
    "<pre><strong>Input:</strong> p = [1,2], q = [1,null,2]\n",
    "<strong>Output:</strong> false\n",
    "</pre>\n",
    "\n",
    "**Example 3:**\n",
    "\n",
    "![](https://assets.leetcode.com/uploads/2020/12/20/ex3.jpg)\n",
    "\n",
    "<pre><strong>Input:</strong> p = [1,2,1], q = [1,1,2]\n",
    "<strong>Output:</strong> false\n",
    "</pre>\n",
    "\n",
    "**Constraints:**\n",
    "\n",
    "* The number of nodes in both trees is in the range `[0, 100]`.\n",
    "* `-10<sup>4</sup><span> </span><= Node.val <= 10<sup>4</sup>`\n",
    "\n",
    "## 풀이\n"
   ]
  },
  {
   "cell_type": "code",
   "execution_count": null,
   "metadata": {
    "vscode": {
     "languageId": "javascript"
    }
   },
   "outputs": [],
   "source": [
    "/**\n",
    " * Definition for a binary tree node.\n",
    " * function TreeNode(val, left, right) {\n",
    " *     this.val = (val===undefined ? 0 : val)\n",
    " *     this.left = (left===undefined ? null : left)\n",
    " *     this.right = (right===undefined ? null : right)\n",
    " * }\n",
    " */\n",
    "/**\n",
    " * @param {TreeNode} p\n",
    " * @param {TreeNode} q\n",
    " * @return {boolean}\n",
    " */\n",
    "var isSameTree = function(p, q) {\n",
    "  if(!p && !q) return true;\n",
    "  if(!p || !q || p.val !== q.val) return false;\n",
    "\n",
    "  return (isSameTree(p.left, q.left) && isSameTree(p.right, q.right));\n",
    "};"
   ]
  },
  {
   "cell_type": "markdown",
   "metadata": {},
   "source": [
    "## 최적화"
   ]
  },
  {
   "cell_type": "code",
   "execution_count": null,
   "metadata": {
    "vscode": {
     "languageId": "javascript"
    }
   },
   "outputs": [],
   "source": [
    "\n",
    "/**\n",
    " * Definition for a binary tree node.\n",
    " * function TreeNode(val, left, right) {\n",
    " *     this.val = (val===undefined ? 0 : val)\n",
    " *     this.left = (left===undefined ? null : left)\n",
    " *     this.right = (right===undefined ? null : right)\n",
    " * }\n",
    " */\n",
    "/**\n",
    " * @param {TreeNode} p\n",
    " * @param {TreeNode} q\n",
    " * @return {boolean}\n",
    " */\n",
    " var isSameTree = function(p, q) {\n",
    "  if ((!p && !q)) {\n",
    "      return true;\n",
    "  }\n",
    "  if ((p && !q) || (!p && q)) {\n",
    "      return false;\n",
    "  }\n",
    "  let nodes = [[p,q]];\n",
    "  \n",
    "  while (nodes.length) {\n",
    "      let curr = nodes.pop();\n",
    "      let node1 = curr[0];\n",
    "      let node2 = curr[1];\n",
    "      \n",
    "      if (node1.val !== node2.val) {\n",
    "          return false;\n",
    "      }\n",
    "      \n",
    "      if (node1.left && node2.left) {\n",
    "          nodes.push([node1.left, node2.left]);\n",
    "      }\n",
    "      if (node1.right && node2.right) {\n",
    "          nodes.push([node1.right, node2.right]);\n",
    "      }\n",
    "      if ((node1.left && !node2.left) || (!node1.left && node2.left) \n",
    "          || (node1.right && !node2.right) || (!node1.right && node2.right)) {\n",
    "          return false;\n",
    "      }\n",
    "  }\n",
    "  \n",
    "  return true;\n",
    "};"
   ]
  },
  {
   "cell_type": "markdown",
   "metadata": {},
   "source": [
    "## Hash 값 비교"
   ]
  },
  {
   "cell_type": "code",
   "execution_count": null,
   "metadata": {
    "vscode": {
     "languageId": "javascript"
    }
   },
   "outputs": [],
   "source": [
    "var isSameTree = function(p, q) {\n",
    "  let pHash = crypto.createHash('sha256').update(JSON.stringify(p)).digest('base64');\n",
    "  let qHash = crypto.createHash('sha256').update(JSON.stringify(q)).digest('base64');\n",
    "  \n",
    "  return pHash === qHash;\n",
    "};"
   ]
  }
 ],
 "metadata": {
  "language_info": {
   "name": "python"
  },
  "orig_nbformat": 4
 },
 "nbformat": 4,
 "nbformat_minor": 2
}
