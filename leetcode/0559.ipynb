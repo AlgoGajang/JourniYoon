{
 "cells": [
  {
   "cell_type": "markdown",
   "metadata": {},
   "source": [
    "# [559. Maximum Depth of N-ary Tree](https://leetcode.com/problems/maximum-depth-of-n-ary-tree/)\n",
    "\n",
    "Given a n-ary tree, find its maximum depth.\n",
    "\n",
    "The maximum depth is the number of nodes along the longest path from the root node down to the farthest leaf node.\n",
    "\n",
    "*Nary-Tree input serialization is represented in their level order traversal, each group of children is separated by the null value (See examples).*\n",
    "\n",
    "**Example 1:**\n",
    "\n",
    "![](https://assets.leetcode.com/uploads/2018/10/12/narytreeexample.png)\n",
    "\n",
    "<pre><strong>Input:</strong> root = [1,null,3,2,4,null,5,6]\n",
    "<strong>Output:</strong> 3\n",
    "</pre>\n",
    "\n",
    "**Example 2:**\n",
    "\n",
    "![](https://assets.leetcode.com/uploads/2019/11/08/sample_4_964.png)\n",
    "\n",
    "<pre><strong>Input:</strong> root = [1,null,2,3,4,5,null,null,6,7,null,8,null,9,10,null,null,11,null,12,null,13,null,null,14]\n",
    "<strong>Output:</strong> 5\n",
    "</pre>\n",
    "\n",
    "**Constraints:**\n",
    "\n",
    "* The total number of nodes is in the range `[0, 10^4]`.\n",
    "* The depth of the n-ary tree is less than or equal to `1000`.\n",
    "\n",
    "## 풀이\n",
    "- BFS\n",
    "구현되어 있는 Queue 자료구조를 사용하고싶어 고군분투했다.  \n",
    "enqueue()는 자료를 하나씩 추가 할 수 있는데 chileren이 배열로 만들어져  반복문(while: q 순회) => 반복문(for: 방문한 노드의 자식 탐색) => 반복문(forEach: 자식 노드 추가) 구조로 조금 복잡하게 구현되었다."
   ]
  },
  {
   "cell_type": "code",
   "execution_count": null,
   "metadata": {},
   "outputs": [],
   "source": [
    "import { Queue } from '@datastructures-js/queue';\n",
    "/**\n",
    " * // Definition for a Node./uploads/2019/11/08/sample_4_964.png\n",
    " * function Node(val,children) {\n",
    " *    this.val = val;\n",
    " *    this.children = children; // array\n",
    " * };\n",
    " */\n",
    "\n",
    "/**\n",
    " * @param {Node|null} root\n",
    " * @return {number}\n",
    " */\n",
    "var maxDepth = function(root) {\n",
    "  if(!root) return 0;\n",
    "  \n",
    "  let q = new Queue();\n",
    "  let level = 0;\n",
    "  q.enqueue(root);\n",
    "\n",
    "  while (q.size()) {\n",
    "    let qLen = q.size();\n",
    "     for (let i = 0; i < qLen; i++ ){\n",
    "      let v = q.dequeue();\n",
    "      v.children.forEach(val => q.enqueue(val));\n",
    "     }\n",
    "    level++;\n",
    "  }\n",
    "    return level;\n",
    "};"
   ]
  }
 ],
 "metadata": {
  "kernelspec": {
   "display_name": "JavaScript (Node.js)",
   "language": "javascript",
   "name": "javascript"
  },
  "language_info": {
   "name": "javascript"
  },
  "orig_nbformat": 4
 },
 "nbformat": 4,
 "nbformat_minor": 2
}
