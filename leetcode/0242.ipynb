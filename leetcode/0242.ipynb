{
 "cells": [
  {
   "cell_type": "markdown",
   "metadata": {},
   "source": [
    "# [242. Valid Anagram](https://leetcode.com/problems/valid-anagram/)\n",
    "\n",
    "Given two strings `s` and `t`, return `true` *if* `t` *is an anagram of* `s`*, and* `false` *otherwise* .\n",
    "\n",
    "An **Anagram** is a word or phrase formed by rearranging the letters of a different word or phrase, typically using all the original letters exactly once.\n",
    "\n",
    "**Example 1:**\n",
    "\n",
    "<pre><strong>Input:</strong> s = \"anagram\", t = \"nagaram\"\n",
    "<strong>Output:</strong> true\n",
    "</pre>\n",
    "\n",
    "**Example 2:**\n",
    "\n",
    "<pre><strong>Input:</strong> s = \"rat\", t = \"car\"\n",
    "<strong>Output:</strong> false\n",
    "</pre>\n",
    "\n",
    "**Constraints:**\n",
    "\n",
    "* `1 <= s.length, t.length <= 5 * 10<sup>4</sup>`\n",
    "* `s` and `t` consist of lowercase English letters.\n",
    "\n",
    "**Follow up:** What if the inputs contain Unicode characters? How would you adapt your solution to such a case?\n",
    "\n",
    "## 풀이\n",
    "입력값 s의 각 문자를 해시 테이블의 key로, value에 카운트?  \n",
    "입력값 t를 탐색하며 해시 테이블의 value가 0인지 체크\n",
    "\n",
    "단계\n",
    "\n"
   ]
  },
  {
   "cell_type": "code",
   "execution_count": 35,
   "metadata": {},
   "outputs": [
    {
     "name": "stdout",
     "output_type": "stream",
     "text": [
      "true\n",
      "false\n"
     ]
    }
   ],
   "source": [
    "var isAnagram = function(s, t) {\n",
    "  let hash = {};\n",
    "\n",
    "  for (let i = 0; i < s.length; i++ ) {\n",
    "    if(!hash[s[i]]) hash[s[i]] = 0;\n",
    "    hash[s[i]] += 1;\n",
    "  }\n",
    "  for (let j = 0; j < t.length; j++) {\n",
    "    if (t[j] in hash ) hash[t[j]] -= 1;\n",
    "    else {\n",
    "      return false;\n",
    "    }\n",
    "  }\n",
    "  return Object.values(hash).every(item => item === 0 );\n",
    "};\n",
    "console.log(isAnagram('anagram', 'nagaram'))\n",
    "console.log(isAnagram(\"a\", \"ab\"))"
   ]
  }
 ],
 "metadata": {
  "kernelspec": {
   "display_name": "JavaScript (Node.js)",
   "language": "javascript",
   "name": "javascript"
  },
  "language_info": {
   "file_extension": ".js",
   "mimetype": "application/javascript",
   "name": "javascript",
   "version": "16.15.1"
  },
  "orig_nbformat": 4
 },
 "nbformat": 4,
 "nbformat_minor": 2
}
