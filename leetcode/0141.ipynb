{
 "cells": [
  {
   "cell_type": "markdown",
   "metadata": {},
   "source": [
    "# [141. Linked List Cycle](https://leetcode.com/problems/linked-list-cycle/)\n",
    "\n",
    "Given `head`, the head of a linked list, determine if the linked list has a cycle in it.\n",
    "\n",
    "There is a cycle in a linked list if there is some node in the list that can be reached again by continuously following the `next` pointer. Internally, `pos` is used to denote the index of the node that tail's `next` pointer is connected to. **Note that `pos` is not passed as a parameter** .\n",
    "\n",
    "Return `true`* if there is a cycle in the linked list* . Otherwise, return `false`.\n",
    "\n",
    "**Example 1:**\n",
    "\n",
    "![](https://assets.leetcode.com/uploads/2018/12/07/circularlinkedlist.png)\n",
    "\n",
    "<pre><strong>Input:</strong> head = [3,2,0,-4], pos = 1\n",
    "<strong>Output:</strong> true\n",
    "<strong>Explanation:</strong> There is a cycle in the linked list, where the tail connects to the 1st node (0-indexed).\n",
    "</pre>\n",
    "\n",
    "**Example 2:**\n",
    "\n",
    "![](https://assets.leetcode.com/uploads/2018/12/07/circularlinkedlist_test2.png)\n",
    "\n",
    "<pre><strong>Input:</strong> head = [1,2], pos = 0\n",
    "<strong>Output:</strong> true\n",
    "<strong>Explanation:</strong> There is a cycle in the linked list, where the tail connects to the 0th node.\n",
    "</pre>\n",
    "\n",
    "**Example 3:**\n",
    "\n",
    "![](https://assets.leetcode.com/uploads/2018/12/07/circularlinkedlist_test3.png)\n",
    "\n",
    "<pre><strong>Input:</strong> head = [1], pos = -1\n",
    "<strong>Output:</strong> false\n",
    "<strong>Explanation:</strong> There is no cycle in the linked list.\n",
    "</pre>\n",
    "\n",
    "**Constraints:**\n",
    "\n",
    "* The number of the nodes in the list is in the range `[0, 10^4]`.\n",
    "* `-10^5 <= Node.val <= 10^5`\n",
    "* `pos` is `-1` or a **valid index** in the linked-list.\n",
    "\n",
    "**Follow up:** Can you solve it using `O(1)` (i.e. constant) memory?\n",
    "\n",
    "## 풀이\n",
    "- Hash Table\n",
    "- Linked List\n",
    "- Two Pointers\n",
    "\n",
    "각 노드를 방문하고 해시 테이블에 저장한다.  \n",
    "해시 테이블에 순환구조가 저장되어 있는지 판별한다.  "
   ]
  },
  {
   "cell_type": "code",
   "execution_count": null,
   "metadata": {
    "vscode": {
     "languageId": "javascript"
    }
   },
   "outputs": [],
   "source": [
    "// Hash Table\n",
    "var hasCycle = function(head) {\n",
    "  let hash = new Set();\n",
    "\n",
    "  while (head) {\n",
    "    if (hash.has(head)) {\n",
    "      return true;\n",
    "    } else {\n",
    "      hash.add(head);\n",
    "      head = head.next;\n",
    "    }\n",
    "  }\n",
    "  return false;\n",
    "};"
   ]
  },
  {
   "cell_type": "code",
   "execution_count": null,
   "metadata": {
    "vscode": {
     "languageId": "javascript"
    }
   },
   "outputs": [],
   "source": [
    "// Two Pointers\n",
    "var hasCycle = function(head) {\n",
    "  if(head === null) return false; \n",
    "  \n",
    "let slow = head;\n",
    "let fast = head.next;\n",
    "\n",
    "while(slow && fast && fast.next){\n",
    "    if(slow === fast) return true;\n",
    "    fast = fast.next.next; \n",
    "    slow = slow.next; \n",
    "}\n",
    "  return false; \n",
    "};"
   ]
  }
 ],
 "metadata": {
  "language_info": {
   "name": "python"
  },
  "orig_nbformat": 4
 },
 "nbformat": 4,
 "nbformat_minor": 2
}
