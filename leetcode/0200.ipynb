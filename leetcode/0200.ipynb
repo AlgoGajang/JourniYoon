{
 "cells": [
  {
   "cell_type": "markdown",
   "metadata": {},
   "source": [
    "# [200. Number of Islands](https://leetcode.com/problems/number-of-islands/)\n",
    "\n",
    "Given an `m x n` 2D binary grid `grid` which represents a map of `'1'`s (land) and `'0'`s (water), return *the number of islands* .\n",
    "\n",
    "An **island** is surrounded by water and is formed by connecting adjacent lands horizontally or vertically. You may assume all four edges of the grid are all surrounded by water.\n",
    "\n",
    "**Example 1:**\n",
    "\n",
    "<pre><strong>Input:</strong> grid = [\n",
    "  [\"1\",\"1\",\"1\",\"1\",\"0\"],\n",
    "  [\"1\",\"1\",\"0\",\"1\",\"0\"],\n",
    "  [\"1\",\"1\",\"0\",\"0\",\"0\"],\n",
    "  [\"0\",\"0\",\"0\",\"0\",\"0\"]\n",
    "]\n",
    "<strong>Output:</strong> 1\n",
    "</pre>\n",
    "\n",
    "**Example 2:**\n",
    "\n",
    "<pre><strong>Input:</strong> grid = [\n",
    "  [\"1\",\"1\",\"0\",\"0\",\"0\"],\n",
    "  [\"1\",\"1\",\"0\",\"0\",\"0\"],\n",
    "  [\"0\",\"0\",\"1\",\"0\",\"0\"],\n",
    "  [\"0\",\"0\",\"0\",\"1\",\"1\"]\n",
    "]\n",
    "<strong>Output:</strong> 3\n",
    "</pre>\n",
    "\n",
    "**Constraints:**\n",
    "\n",
    "* `m == grid.length`\n",
    "* `n == grid[i].length`\n",
    "* `1 <= m, n <= 300`\n",
    "* `grid[i][j]` is `'0'` or `'1'`.\n",
    "\n",
    "## 풀이\n",
    "- BFS"
   ]
  },
  {
   "cell_type": "code",
   "execution_count": null,
   "metadata": {},
   "outputs": [],
   "source": [
    "class Solution:\n",
    "  def numIslands(self, grid: List[List[str]]) -> int:\n",
    "    if not grid:\n",
    "      return 0\n",
    "    \n",
    "    rows, cols = len(grid), len(grid[0])\n",
    "    visit = set()\n",
    "    islands = 0\n",
    "    \n",
    "    def bfs(r, c):\n",
    "      q = collections.deque()\n",
    "      visit.add((r, c))\n",
    "      q.append((r, c))\n",
    "      \n",
    "      while q:\n",
    "        row, col = q.popleft()\n",
    "        directions = [[1, 0], [-1, 0], [0, 1], [0, -1]]\n",
    "        \n",
    "        for dr, dc in directions:\n",
    "          r, c = row + dr, col + dc\n",
    "          if r in range(rows) and c in range(cols) and grid[r][c] == \"1\" and (r, c) not in visit:\n",
    "              q.append((r, c))\n",
    "              visit.add((r, c))\n",
    "    \n",
    "    for r in range(rows):\n",
    "      for c in range(cols):\n",
    "        if grid[r][c] == \"1\" and (r, c) not in visit:\n",
    "          bfs(r, c)\n",
    "          islands += 1\n",
    "    return islands"
   ]
  }
 ],
 "metadata": {
  "kernelspec": {
   "display_name": "Python 3.8.10 64-bit",
   "language": "python",
   "name": "python3"
  },
  "language_info": {
   "name": "python",
   "version": "3.8.10"
  },
  "orig_nbformat": 4,
  "vscode": {
   "interpreter": {
    "hash": "31f2aee4e71d21fbe5cf8b01ff0e069b9275f58929596ceb00d14d90e3e16cd6"
   }
  }
 },
 "nbformat": 4,
 "nbformat_minor": 2
}
