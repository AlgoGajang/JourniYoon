{
 "cells": [
  {
   "cell_type": "markdown",
   "metadata": {},
   "source": [
    "# [104. Maximum Depth of Binary Tree](https://leetcode.com/problems/maximum-depth-of-binary-tree/)\n",
    "\n",
    "Given the `root` of a binary tree, return *its maximum depth* .\n",
    "\n",
    "A binary tree's **maximum depth** is the number of nodes along the longest path from the root node down to the farthest leaf node.\n",
    "\n",
    "**Example 1:**\n",
    "\n",
    "![](https://assets.leetcode.com/uploads/2020/11/26/tmp-tree.jpg)\n",
    "\n",
    "<pre><strong>Input:</strong> root = [3,9,20,null,null,15,7]\n",
    "<strong>Output:</strong> 3\n",
    "</pre>\n",
    "\n",
    "**Example 2:**\n",
    "\n",
    "<pre><strong>Input:</strong> root = [1,null,2]\n",
    "<strong>Output:</strong> 2\n",
    "</pre>\n",
    "\n",
    "**Constraints:**\n",
    "\n",
    "* The number of nodes in the tree is in the range `[0, 10^4]`.\n",
    "* `-100 <= Node.val <= 100`\n",
    "\n",
    "## 풀이"
   ]
  },
  {
   "cell_type": "markdown",
   "metadata": {},
   "source": [
    "### BFS"
   ]
  },
  {
   "cell_type": "code",
   "execution_count": null,
   "metadata": {},
   "outputs": [],
   "source": [
    "/**\n",
    " * Definition for a binary tree node.\n",
    " * function TreeNode(val, left, right) {\n",
    " *     this.val = (val===undefined ? 0 : val)\n",
    " *     this.left = (left===undefined ? null : left)\n",
    " *     this.right = (right===undefined ? null : right)\n",
    " * }\n",
    " */\n",
    "/**\n",
    " * @param {TreeNode} root\n",
    " * @return {number}\n",
    " */\n",
    "\n",
    " var maxDepth = function(root) {\n",
    "  if(!root) return 0;\n",
    "  \n",
    "  let q = [];\n",
    "  let level = 0;\n",
    "  q.push(root);\n",
    "\n",
    "  while (q.length) {\n",
    "    let qLen = q.length;\n",
    "     for (let i = 0; i < qLen; i++ ){\n",
    "      let v = q.shift();\n",
    "      q.push(...v.children)\n",
    "     }\n",
    "    level++;\n",
    "  }\n",
    "    return level;\n",
    "};"
   ]
  },
  {
   "cell_type": "markdown",
   "metadata": {},
   "source": [
    "### Recursive DFS"
   ]
  },
  {
   "cell_type": "code",
   "execution_count": null,
   "metadata": {},
   "outputs": [],
   "source": [
    "var maxDepth = function(root) {\n",
    "  if (root === null) return 0;\n",
    "  return 1 + Math.max(maxDepth(root.left), maxDepth(root.right))\n",
    "}"
   ]
  }
 ],
 "metadata": {
  "kernelspec": {
   "display_name": "JavaScript (Node.js)",
   "language": "javascript",
   "name": "javascript"
  },
  "language_info": {
   "name": "javascript"
  },
  "orig_nbformat": 4
 },
 "nbformat": 4,
 "nbformat_minor": 2
}
