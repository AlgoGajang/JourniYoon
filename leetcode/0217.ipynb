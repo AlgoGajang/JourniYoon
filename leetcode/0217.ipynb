{
 "cells": [
  {
   "cell_type": "markdown",
   "metadata": {},
   "source": [
    "# [217. Contains Duplicate](https://leetcode.com/problems/contains-duplicate/)\n",
    "\n",
    "Given an integer array `nums`, return `true` if any value appears **at least twice** in the array, and return `false` if every element is distinct.\n",
    "\n",
    "**Example 1:**\n",
    "\n",
    "<pre><strong>Input:</strong> nums = [1,2,3,1]\n",
    "<strong>Output:</strong> true\n",
    "</pre>\n",
    "\n",
    "**Example 2:**\n",
    "\n",
    "<pre><strong>Input:</strong> nums = [1,2,3,4]\n",
    "<strong>Output:</strong> false\n",
    "</pre>\n",
    "\n",
    "**Example 3:**\n",
    "\n",
    "<pre><strong>Input:</strong> nums = [1,1,1,3,3,4,3,2,4,2]\n",
    "<strong>Output:</strong> true\n",
    "</pre>\n",
    "\n",
    "**Constraints:**\n",
    "\n",
    "* `1 <= nums.length <= 10<sup>5</sup>`\n",
    "* `-10<sup>9</sup><span> </span><= nums[i] <= 10<sup>9</sup>`\n",
    "\n",
    "## 풀이\n",
    "- Hash Table\n",
    "주어진 nums 리스트를 빈도값을 value로 갖는 dictionary로 바꿨다.  \n",
    "반복문을 돌며 value가 1보다 큰 값을 만나면 true를 반환하도록 한다."
   ]
  },
  {
   "cell_type": "code",
   "execution_count": null,
   "metadata": {},
   "outputs": [],
   "source": [
    "import collections\n",
    "from typing import List\n",
    "\n",
    "class Solution:\n",
    "  def containsDuplicate(self, nums: List[int]) -> bool:\n",
    "    count = collections.Counter(nums)\n",
    "    for value in sorted(count.values(),reverse=True):\n",
    "      if value > 1:\n",
    "        return True\n",
    "      else:\n",
    "        pass\n",
    "    return False"
   ]
  },
  {
   "cell_type": "markdown",
   "metadata": {},
   "source": [
    "## 최적화\n",
    "중복을 제거하는 set 연산자를 이용하여 주어진 리스트를 집합으로 변환하고 두 자료의 길이를 비교한다."
   ]
  },
  {
   "cell_type": "code",
   "execution_count": null,
   "metadata": {},
   "outputs": [],
   "source": [
    "import collections\n",
    "from typing import List\n",
    "\n",
    "class Solution:\n",
    "  def containsDuplicate(self, nums: List[int]) -> bool:\n",
    "    s = set(nums)\n",
    "    return len(s) != len(nums)\n"
   ]
  }
 ],
 "metadata": {
  "kernelspec": {
   "display_name": "Python 3.8.10 64-bit",
   "language": "python",
   "name": "python3"
  },
  "language_info": {
   "name": "python",
   "version": "3.8.10"
  },
  "orig_nbformat": 4,
  "vscode": {
   "interpreter": {
    "hash": "31f2aee4e71d21fbe5cf8b01ff0e069b9275f58929596ceb00d14d90e3e16cd6"
   }
  }
 },
 "nbformat": 4,
 "nbformat_minor": 2
}
