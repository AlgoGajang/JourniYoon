{
 "cells": [
  {
   "cell_type": "markdown",
   "metadata": {},
   "source": [
    "# [206. Reverse Linked List](https://leetcode.com/problems/reverse-linked-list/)\n",
    "\n",
    "Given the `head` of a singly linked list, reverse the list, and return *the reversed list* .\n",
    "\n",
    "**Example 1:**\n",
    "\n",
    "![](https://assets.leetcode.com/uploads/2021/02/19/rev1ex1.jpg)\n",
    "\n",
    "<pre><strong>Input:</strong> head = [1,2,3,4,5]\n",
    "<strong>Output:</strong> [5,4,3,2,1]\n",
    "</pre>\n",
    "\n",
    "**Example 2:**\n",
    "\n",
    "![](https://assets.leetcode.com/uploads/2021/02/19/rev1ex2.jpg)\n",
    "\n",
    "<pre><strong>Input:</strong> head = [1,2]\n",
    "<strong>Output:</strong> [2,1]\n",
    "</pre>\n",
    "\n",
    "**Example 3:**\n",
    "\n",
    "<pre><strong>Input:</strong> head = []\n",
    "<strong>Output:</strong> []\n",
    "</pre>\n",
    "\n",
    "**Constraints:**\n",
    "\n",
    "* The number of nodes in the list is the range `[0, 5000]`.\n",
    "* `-5000 <= Node.val <= 5000`\n",
    "\n",
    "**Follow up:** A linked list can be reversed either iteratively or recursively. Could you implement both?\n",
    "\n",
    "## 풀이\n",
    "- 관련 주제\n",
    "  - Linked List\n",
    "  - Recursion\n",
    "  \n",
    "풀이 전에 `console.log(head)`로 확인했지만, [1,2,3,4,5] 배열처럼 보여 풀이에 오랜 시간이 걸렸다.\n",
    "문제에 쓰이는 ListNode는 아래처럼 val와 next를 가진 Linked List이다.\n",
    "\n",
    "```js\n",
    "function ListNode(val, next) {\n",
    "  this.val = (val===undefined ? 0 : val)\n",
    "  this.next = (next===undefined ? null : next)\n",
    "}\n",
    "```"
   ]
  },
  {
   "cell_type": "code",
   "execution_count": null,
   "metadata": {},
   "outputs": [],
   "source": [
    "// Iteratively\n",
    "var reverseList = function(head) {\n",
    "  let pre = null\n",
    "  while(head){\n",
    "      const next = head.next\n",
    "      head.next = pre\n",
    "      pre = head\n",
    "      head = next\n",
    "  }\n",
    "  return pre\n",
    "};"
   ]
  },
  {
   "cell_type": "code",
   "execution_count": null,
   "metadata": {},
   "outputs": [],
   "source": [
    "// recursively\n",
    "var reverseList = function(head) {\n",
    "  if(head == null || head.next == null) return head;\n",
    "   let p = reverseList(head.next);\n",
    "   head.next.next = head;\n",
    "   head.next = null;\n",
    "   return p\n",
    "};"
   ]
  }
 ],
 "metadata": {
  "kernelspec": {
   "display_name": "JavaScript (Node.js)",
   "language": "javascript",
   "name": "javascript"
  },
  "language_info": {
   "file_extension": ".js",
   "mimetype": "application/javascript",
   "name": "javascript",
   "version": "16.15.1"
  },
  "orig_nbformat": 4
 },
 "nbformat": 4,
 "nbformat_minor": 2
}
