{
 "cells": [
  {
   "cell_type": "markdown",
   "metadata": {},
   "source": [
    "# [424. Longest Repeating Character Replacement](https://leetcode.com/problems/longest-repeating-character-replacement/)\n",
    "\n",
    "You are given a string `s` and an integer `k`. You can choose any character of the string and change it to any other uppercase English character. You can perform this operation at most `k` times.\n",
    "\n",
    "Return *the length of the longest substring containing the same letter you can get after performing the above operations* .\n",
    "\n",
    "**Example 1:**\n",
    "\n",
    "<pre><strong>Input:</strong> s = \"ABAB\", k = 2\n",
    "<strong>Output:</strong> 4\n",
    "<strong>Explanation:</strong> Replace the two 'A's with two 'B's or vice versa.\n",
    "</pre>\n",
    "\n",
    "**Example 2:**\n",
    "\n",
    "<pre><strong>Input:</strong> s = \"AABABBA\", k = 1\n",
    "<strong>Output:</strong> 4\n",
    "<strong>Explanation:</strong> Replace the one 'A' in the middle with 'B' and form \"AABBBBA\".\n",
    "The substring \"BBBB\" has the longest repeating letters, which is 4.\n",
    "</pre>\n",
    "\n",
    "**Constraints:**\n",
    "\n",
    "* `1 <= s.length <= 10<sup>5</sup>`\n",
    "* `s` consists of only uppercase English letters.\n",
    "* `0 <= k <= s.length`\n",
    "\n",
    "## 풀이\n",
    "- Hash Table\n",
    "- String\n",
    "- Sliding Window\n",
    "\n"
   ]
  },
  {
   "cell_type": "code",
   "execution_count": 4,
   "metadata": {},
   "outputs": [
    {
     "name": "stdout",
     "output_type": "stream",
     "text": [
      "5\n"
     ]
    }
   ],
   "source": [
    "/**\n",
    " * @param {string} s\n",
    " * @param {number} k\n",
    " * @return {number}\n",
    " */\n",
    "var characterReplacement = function(s, k) {\n",
    "  let maxLen = 0, l = 0, mostFreq = 0;\n",
    "  let freq = {};\n",
    "\n",
    "\n",
    "  for (let r = 0; r < s.length; r++) {\n",
    "    freq[s[r]] = freq[s[r]] + 1 || 1;\n",
    "    mostFreq = Math.max(mostFreq, freq[s[r]]);\n",
    "\n",
    "    if((r - l + 1) - mostFreq > k) {\n",
    "      freq[s[l]] -= 1;\n",
    "      l += 1;\n",
    "    }\n",
    "  }\n",
    "  return maxLen = s.length - l;\n",
    "};\n",
    "console.log(characterReplacement(\"ABABBA\", 2))"
   ]
  },
  {
   "cell_type": "code",
   "execution_count": null,
   "metadata": {},
   "outputs": [],
   "source": [
    "var characterReplacement = function(s, k) {\n",
    "  let left = 0, right = 0, mostFreq = 0, maxLen = 0;\n",
    "  let freqMap = {};\n",
    "  \n",
    "  for(right = 0; right < s.length; right++) {\n",
    "      freqMap[s[right]] = freqMap[s[right]] + 1 || 1;\n",
    "      mostFreq = Math.max(freqMap[s[right]], mostFreq);\n",
    "      \n",
    "      if(right-left+1 - mostFreq > k) {\n",
    "          freqMap[s[left]] -= 1;\n",
    "          left++;\n",
    "      }\n",
    "    }\n",
    "  maxLen = s.length - left;\n",
    "  return maxLen;\n",
    "};"
   ]
  }
 ],
 "metadata": {
  "kernelspec": {
   "display_name": "JavaScript (Node.js)",
   "language": "javascript",
   "name": "javascript"
  },
  "language_info": {
   "file_extension": ".js",
   "mimetype": "application/javascript",
   "name": "javascript",
   "version": "16.15.1"
  },
  "orig_nbformat": 4
 },
 "nbformat": 4,
 "nbformat_minor": 2
}
