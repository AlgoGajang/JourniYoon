{
 "cells": [
  {
   "cell_type": "markdown",
   "metadata": {},
   "source": [
    "# [1791. Find Center of Star Graph](https://leetcode.com/problems/find-center-of-star-graph/)\n",
    "\n",
    "There is an undirected **star** graph consisting of `n` nodes labeled from `1` to `n`. A star graph is a graph where there is one **center** node and **exactly** `n - 1` edges that connect the center node with every other node.\n",
    "\n",
    "You are given a 2D integer array `edges` where each `edges[i] = [ui, vi]` indicates that there is an edge between the nodes `ui` and `vi`. Return the center of the given star graph.\n",
    "\n",
    "**Example 1:**\n",
    "\n",
    "![](https://assets.leetcode.com/uploads/2021/02/24/star_graph.png)\n",
    "\n",
    "<pre><strong>Input:</strong> edges = [[1,2],[2,3],[4,2]]\n",
    "<strong>Output:</strong> 2\n",
    "<strong>Explanation:</strong> As shown in the figure above, node 2 is connected to every other node, so 2 is the center.\n",
    "</pre>\n",
    "\n",
    "**Example 2:**\n",
    "\n",
    "<pre><strong>Input:</strong> edges = [[1,2],[5,1],[1,3],[1,4]]\n",
    "<strong>Output:</strong> 1\n",
    "</pre>\n",
    "\n",
    "**Constraints:**\n",
    "\n",
    "* `3 <= n <= 10^5`\n",
    "* `edges.length == n - 1`\n",
    "* `edges[i].length == 2`\n",
    "* `1 <= ui,vi<= n`\n",
    "* `ui!= vi`\n",
    "* The given `edges` represent a valid star graph.\n",
    "\n",
    "## 풀이\n",
    "\n",
    "센터노드는 모든 요소에 존재하므로 edges 요소 중 2개만 비교해도 센터노드를 찾을 수 있다."
   ]
  },
  {
   "cell_type": "code",
   "execution_count": null,
   "metadata": {},
   "outputs": [],
   "source": [
    "var findCenter = function(edges) {\n",
    "  return edges[1].indexOf(edges[0][0]) === -1? edges[0][1]: edges[0][0];\n",
    "};"
   ]
  }
 ],
 "metadata": {
  "kernelspec": {
   "display_name": "JavaScript (Node.js)",
   "language": "javascript",
   "name": "javascript"
  },
  "language_info": {
   "name": "javascript",
   "version": "3.10.6"
  },
  "orig_nbformat": 4,
  "vscode": {
   "interpreter": {
    "hash": "7e1998ff7f8aa20ada591c520b972326324e5ea05489af9e422744c7c09f6dad"
   }
  }
 },
 "nbformat": 4,
 "nbformat_minor": 2
}
