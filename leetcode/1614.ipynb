{
 "cells": [
  {
   "cell_type": "markdown",
   "metadata": {},
   "source": [
    "# 1614. Maximum Nesting Depth of the Parentheses\n",
    "\n",
    "A string is a **valid parentheses string** (denoted **VPS** ) if it meets one of the following:\n",
    "\n",
    "* It is an empty string `\"\"`, or a single character not equal to `\"(\"` or `\")\"`,\n",
    "* It can be written as `AB` (`A` concatenated with `B`), where `A` and `B` are **VPS** 's, or\n",
    "* It can be written as `(A)`, where `A` is a **VPS** .\n",
    "\n",
    "We can similarly define the **nesting depth** `depth(S)` of any VPS `S` as follows:\n",
    "\n",
    "* `depth(\"\") = 0`\n",
    "* `depth(C) = 0`, where `C` is a string with a single character not equal to `\"(\"` or `\")\"`.\n",
    "* `depth(A + B) = max(depth(A), depth(B))`, where `A` and `B` are **VPS** 's.\n",
    "* `depth(\"(\" + A + \")\") = 1 + depth(A)`, where `A` is a **VPS** .\n",
    "\n",
    "For example, `\"\"`, `\"()()\"`, and `\"()(()())\"` are **VPS** 's (with nesting depths 0, 1, and 2), and `\")(\"` and `\"(()\"` are not **VPS** 's.\n",
    "\n",
    "Given a **VPS** represented as string `s`, return *the **nesting depth** of * `s`.\n",
    "\n",
    "**Example 1:**\n",
    "\n",
    "<pre><strong>Input:</strong> s = \"(1+(2*3)+((<u>8</u>)/4))+1\"\n",
    "<strong>Output:</strong> 3\n",
    "<strong>Explanation:</strong> Digit 8 is inside of 3 nested parentheses in the string.\n",
    "</pre>\n",
    "\n",
    "**Example 2:**\n",
    "\n",
    "<pre><strong>Input:</strong> s = \"(1)+((2))+(((<u>3</u>)))\"\n",
    "<strong>Output:</strong> 3\n",
    "</pre>\n",
    "\n",
    "**Constraints:**\n",
    "\n",
    "* `1 <= s.length <= 100`\n",
    "* `s` consists of digits `0-9` and characters `'+'`, `'-'`, `'*'`, `'/'`, `'('`, and `')'`.\n",
    "* It is guaranteed that parentheses expression `s` is a **VPS** .\n",
    "\n",
    "## 풀이"
   ]
  },
  {
   "cell_type": "code",
   "execution_count": 1,
   "metadata": {},
   "outputs": [],
   "source": [
    "var maxDepth = function(s) {\n",
    "  let stack = [];\n",
    "  let count = 0;\n",
    "  // array\n",
    "  const regex = /[\\(\\)]/g;\n",
    "  const newS = s.match(regex); \n",
    "  /* string\n",
    "  const regex = /[^\\(\\)]/g;\n",
    "  const newS = s.replace(regex, \"\") */ \n",
    "  if(newS === null || newS.length === 0) return 0;\n",
    "  for (let i = 0; i < newS.length; i++) {\n",
    "      if (stack.length === 0||newS[i] === '(') stack.push(newS[i]);\n",
    "  }\n",
    "};"
   ]
  },
  {
   "cell_type": "code",
   "execution_count": null,
   "metadata": {},
   "outputs": [],
   "source": [
    "var maxDepth = function(s) {\n",
    "   let depth = 0 let maxDepth = 0 for(const letter of s) { if(letter === '(') { depth++ } else if(letter === ')') { depth-- } if(depth > maxDepth) { maxDepth = depth } } return maxDepth }; "
   ]
  },
  {
   "cell_type": "code",
   "execution_count": null,
   "metadata": {},
   "outputs": [],
   "source": [
    "var maxDepth = function(s) { const regex = /[\\(\\)]/g; const vps = s.match(regex) if(vps === null || vps.length === 0) return 0; let countArr = [] let count = 0 for(let i=0; i<vps.length; i++) { // 열린 경우 if(vps[i] === \"(\") { count++} //닫힌 경우 else { count-- } countArr.push(count) } return Math.max(...countArr) }; "
   ]
  },
  {
   "cell_type": "markdown",
   "metadata": {},
   "source": [
    "\"(\" 열린 괄호 일 때 => stack.push\n",
    "\")\" 닫힌 괄호 일 때 => stack을 확인하고 top의 요소가 열린 괄호이면 pop & count++ / 어떻게 count\n",
    "\"(()(()))\""
   ]
  }
 ],
 "metadata": {
  "kernelspec": {
   "display_name": "JavaScript (Node.js)",
   "language": "javascript",
   "name": "javascript"
  },
  "language_info": {
   "file_extension": ".js",
   "mimetype": "application/javascript",
   "name": "javascript",
   "version": "16.15.1"
  },
  "orig_nbformat": 4,
  "vscode": {
   "interpreter": {
    "hash": "7e1998ff7f8aa20ada591c520b972326324e5ea05489af9e422744c7c09f6dad"
   }
  }
 },
 "nbformat": 4,
 "nbformat_minor": 2
}
