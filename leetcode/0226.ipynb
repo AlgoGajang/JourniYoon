{
 "cells": [
  {
   "cell_type": "markdown",
   "metadata": {},
   "source": [
    "# [226. Invert Binary Tree](https://leetcode.com/problems/invert-binary-tree/)\n",
    "\n",
    "Given the `root` of a binary tree, invert the tree, and return *its root* .\n",
    "\n",
    "**Example 1:**\n",
    "\n",
    "![](https://assets.leetcode.com/uploads/2021/03/14/invert1-tree.jpg)\n",
    "\n",
    "<pre><strong>Input:</strong> root = [4,2,7,1,3,6,9]\n",
    "<strong>Output:</strong> [4,7,2,9,6,3,1]\n",
    "</pre>\n",
    "\n",
    "**Example 2:**\n",
    "\n",
    "![](https://assets.leetcode.com/uploads/2021/03/14/invert2-tree.jpg)\n",
    "\n",
    "<pre><strong>Input:</strong> root = [2,1,3]\n",
    "<strong>Output:</strong> [2,3,1]\n",
    "</pre>\n",
    "\n",
    "**Example 3:**\n",
    "\n",
    "<pre><strong>Input:</strong> root = []\n",
    "<strong>Output:</strong> []\n",
    "</pre>\n",
    "\n",
    "**Constraints:**\n",
    "\n",
    "* The number of nodes in the tree is in the range `[0, 100]`.\n",
    "* `-100 <= Node.val <= 100`\n",
    "\n",
    "## 풀이\n",
    "- Binary Tree\n",
    "\n",
    "root 노드의 하위 left <=> right 를 전환한다."
   ]
  },
  {
   "cell_type": "code",
   "execution_count": null,
   "metadata": {
    "vscode": {
     "languageId": "javascript"
    }
   },
   "outputs": [],
   "source": [
    "var invertTree = function (root) {\n",
    "  if (!root) return root;\n",
    "  let left = root.left;\n",
    "  root.left = invertTree(root.right);\n",
    "  root.right = invertTree(left);\n",
    "  return root;\n",
    "};"
   ]
  },
  {
   "cell_type": "code",
   "execution_count": null,
   "metadata": {},
   "outputs": [],
   "source": [
    "# Definition for a binary tree node.\n",
    "# class TreeNode:\n",
    "#     def __init__(self, val=0, left=None, right=None):\n",
    "#         self.val = val\n",
    "#         self.left = left\n",
    "#         self.right = right\n",
    "class Solution:\n",
    "  def invertTree(self, root: Optional[TreeNode]) -> Optional[TreeNode]:\n",
    "    if root:\n",
    "      root.left, root.right = root.right, root.left\n",
    "      self.invertTree(root.left)\n",
    "      self.invertTree(root.right)\n",
    "    return root"
   ]
  }
 ],
 "metadata": {
  "kernelspec": {
   "display_name": "Python 3.8.10 64-bit",
   "language": "python",
   "name": "python3"
  },
  "language_info": {
   "file_extension": ".js",
   "mimetype": "application/javascript",
   "name": "python",
   "version": "3.8.10"
  },
  "orig_nbformat": 4,
  "vscode": {
   "interpreter": {
    "hash": "31f2aee4e71d21fbe5cf8b01ff0e069b9275f58929596ceb00d14d90e3e16cd6"
   }
  }
 },
 "nbformat": 4,
 "nbformat_minor": 2
}
