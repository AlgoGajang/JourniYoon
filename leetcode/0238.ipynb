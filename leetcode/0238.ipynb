{
 "cells": [
  {
   "cell_type": "markdown",
   "metadata": {},
   "source": [
    "# [238. Product of Array Except Self](https://leetcode.com/problems/product-of-array-except-self/)\n",
    "\n",
    "Given an integer array `nums`, return *an array* `answer` *such that* `answer[i]` *is equal to the product of all the elements of* `nums` *except* `nums[i]`.\n",
    "\n",
    "The product of any prefix or suffix of `nums` is **guaranteed** to fit in a **32-bit** integer.\n",
    "\n",
    "You must write an algorithm that runs in `O(n)` time and without using the division operation.\n",
    "\n",
    "**Example 1:**\n",
    "\n",
    "<pre><strong>Input:</strong> nums = [1,2,3,4]\n",
    "<strong>Output:</strong> [24,12,8,6]\n",
    "</pre>\n",
    "\n",
    "**Example 2:**\n",
    "\n",
    "<pre><strong>Input:</strong> nums = [-1,1,0,-3,3]\n",
    "<strong>Output:</strong> [0,0,9,0,0]\n",
    "</pre>\n",
    "\n",
    "**Constraints:**\n",
    "\n",
    "* `2 <= nums.length <= 10<sup>5</sup>`\n",
    "* `-30 <= nums[i] <= 30`\n",
    "* The product of any prefix or suffix of `nums` is **guaranteed** to fit in a **32-bit** integer.\n",
    "\n",
    "**Follow up:** Can you solve the problem in `O(1) `extra space complexity? (The output array **does not** count as extra space for space complexity analysis.)\n",
    "\n",
    "## 풀이\n",
    "- Array\n",
    "- Prefix Sum"
   ]
  },
  {
   "cell_type": "code",
   "execution_count": null,
   "metadata": {},
   "outputs": [],
   "source": [
    "# 틀린 풀이\n",
    "from functools import reduce\n",
    "\n",
    "class Solution:\n",
    "  def productExceptSelf(self, nums: List[int]) -> List[int]:\n",
    "    numsCopy = nums[:]\n",
    "    if 0 in nums:\n",
    "      answer = [0] * len(nums)\n",
    "      zeroIdx = nums.index(0)\n",
    "      del numsCopy[zeroIdx]\n",
    "      answer[zeroIdx] = reduce(lambda x, y: x * y, numsCopy )\n",
    "      return answer\n",
    "    else:\n",
    "      answer = []\n",
    "      total = reduce(lambda x, y: x * y, nums)\n",
    "      total2 = total\n",
    "\n",
    "      for num in nums:\n",
    "        count = 0\n",
    "        while total2 != 0:\n",
    "          total2 -= num\n",
    "          count += 1\n",
    "        answer.append(count)\n",
    "        total2 = total\n",
    "\n",
    "    return answer"
   ]
  },
  {
   "cell_type": "markdown",
   "metadata": {},
   "source": [
    "## 최적화\n",
    "자기 자신을 기준으로 왼쪽 곱과 오른쪽 곱으로 나누어 계산한다.\n"
   ]
  },
  {
   "cell_type": "code",
   "execution_count": null,
   "metadata": {},
   "outputs": [],
   "source": [
    "class Solution:\n",
    "  def productExceptSelf(self, nums: List[int]) -> List  [int]:\n",
    "    res = [1] * len(nums)\n",
    "    \n",
    "    prefix = 1\n",
    "    for i in range(len(nums)):\n",
    "      res[i] = prefix\n",
    "      prefix *= nums[i]\n",
    "    postfix = 1\n",
    "    for i in range(len(nums)-1,-1,-1):\n",
    "      res[i] *= postfix\n",
    "      postfix *= nums[i]\n",
    "    return res\n",
    "    "
   ]
  }
 ],
 "metadata": {
  "kernelspec": {
   "display_name": "Python 3.8.10 64-bit",
   "language": "python",
   "name": "python3"
  },
  "language_info": {
   "name": "python",
   "version": "3.8.10"
  },
  "orig_nbformat": 4,
  "vscode": {
   "interpreter": {
    "hash": "31f2aee4e71d21fbe5cf8b01ff0e069b9275f58929596ceb00d14d90e3e16cd6"
   }
  }
 },
 "nbformat": 4,
 "nbformat_minor": 2
}
