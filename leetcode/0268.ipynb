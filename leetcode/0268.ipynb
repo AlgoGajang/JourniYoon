{
 "cells": [
  {
   "cell_type": "markdown",
   "metadata": {},
   "source": [
    "# [268. Missing Number](https://leetcode.com/problems/missing-number/)\n",
    "\n",
    "Given an array `nums` containing `n` distinct numbers in the range `[0, n]`, return *the only number in the range that is missing from the array.*\n",
    "\n",
    "**Example 1:**\n",
    "\n",
    "<pre><strong>Input:</strong> nums = [3,0,1]\n",
    "<strong>Output:</strong> 2\n",
    "<strong>Explanation:</strong> n = 3 since there are 3 numbers, so all numbers are in the range [0,3]. 2 is the missing number in the range since it does not appear in nums.\n",
    "</pre>\n",
    "\n",
    "**Example 2:**\n",
    "\n",
    "<pre><strong>Input:</strong> nums = [0,1]\n",
    "<strong>Output:</strong> 2\n",
    "<strong>Explanation:</strong> n = 2 since there are 2 numbers, so all numbers are in the range [0,2]. 2 is the missing number in the range since it does not appear in nums.\n",
    "</pre>\n",
    "\n",
    "**Example 3:**\n",
    "\n",
    "<pre><strong>Input:</strong> nums = [9,6,4,2,3,5,7,0,1]\n",
    "<strong>Output:</strong> 8\n",
    "<strong>Explanation:</strong> n = 9 since there are 9 numbers, so all numbers are in the range [0,9]. 8 is the missing number in the range since it does not appear in nums.\n",
    "</pre>\n",
    "\n",
    "**Constraints:**\n",
    "\n",
    "* `n == nums.length`\n",
    "* `1 <= n <= 10<sup>4</sup>`\n",
    "* `0 <= nums[i] <= n`\n",
    "* All the numbers of `nums` are **unique** .\n",
    "\n",
    "**Follow up:** Could you implement a solution using only `O(1)` extra space complexity and `O(n)` runtime complexity?\n",
    "\n",
    "## 풀이\n",
    "- Sorting\n",
    "- Array"
   ]
  },
  {
   "cell_type": "code",
   "execution_count": null,
   "metadata": {},
   "outputs": [],
   "source": [
    "# Time Limit Exceeded\n",
    "class Solution:\n",
    "  def missingNumber(self, nums: List[int]) -> int:\n",
    "    n = len(nums)\n",
    "    \n",
    "    arr = [0]*(n+1)\n",
    "    \n",
    "    for i in range(0, n+1):\n",
    "      if i in nums:\n",
    "        arr[i] = i\n",
    "    if 0 in nums:\n",
    "      arr.pop(0)\n",
    "      return arr.index(0)+1\n",
    "    return arr.index(0)"
   ]
  },
  {
   "cell_type": "code",
   "execution_count": null,
   "metadata": {},
   "outputs": [],
   "source": [
    "# Accepted\n",
    "class Solution:\n",
    "  def missingNumber(self, nums: List[int]) -> int:\n",
    "    sortedNums = sorted(nums)\n",
    "    \n",
    "    start = 0\n",
    "    end = len(nums)\n",
    "    \n",
    "    if end not in nums:\n",
    "        return end\n",
    "      \n",
    "    for num in sortedNums:\n",
    "      if start == num:\n",
    "        start += 1\n",
    "      else:\n",
    "        return num -1"
   ]
  }
 ],
 "metadata": {
  "kernelspec": {
   "display_name": "Python 3.8.10 64-bit",
   "language": "python",
   "name": "python3"
  },
  "language_info": {
   "name": "python",
   "version": "3.8.10"
  },
  "orig_nbformat": 4,
  "vscode": {
   "interpreter": {
    "hash": "31f2aee4e71d21fbe5cf8b01ff0e069b9275f58929596ceb00d14d90e3e16cd6"
   }
  }
 },
 "nbformat": 4,
 "nbformat_minor": 2
}
