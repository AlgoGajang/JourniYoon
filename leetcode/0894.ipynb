{
 "cells": [
  {
   "cell_type": "markdown",
   "metadata": {},
   "source": [
    "# [894. All Possible Full Binary Trees](https://leetcode.com/problems/all-possible-full-binary-trees/)\n",
    "\n",
    "Given an integer `n`, return *a list of all possible **full binary trees** with* `n` *nodes* . Each node of each tree in the answer must have `Node.val == 0`.\n",
    "\n",
    "Each element of the answer is the root node of one possible tree. You may return the final list of trees in **any order** .\n",
    "\n",
    "A **full binary tree** is a binary tree where each node has exactly `0` or `2` children.\n",
    "\n",
    "**Example 1:**\n",
    "\n",
    "![](https://s3-lc-upload.s3.amazonaws.com/uploads/2018/08/22/fivetrees.png)\n",
    "\n",
    "<pre><strong>Input:</strong> n = 7\n",
    "<strong>Output:</strong> [[0,0,0,null,null,0,0,null,null,0,0],[0,0,0,null,null,0,0,0,0],[0,0,0,0,0,0,0],[0,0,0,0,0,null,null,null,null,0,0],[0,0,0,0,0,null,null,0,0]]\n",
    "</pre>\n",
    "\n",
    "**Example 2:**\n",
    "\n",
    "<pre><strong>Input:</strong> n = 3\n",
    "<strong>Output:</strong> [[0,0,0]]\n",
    "</pre>\n",
    "\n",
    "**Constraints:**\n",
    "\n",
    "* `1 <= n <= 20`\n",
    "\n",
    "## 풀이\n",
    "- Recursion\n",
    "- Dynamic Programming\n",
    "- Binary Tree\n",
    "\n",
    "\n"
   ]
  },
  {
   "cell_type": "code",
   "execution_count": null,
   "metadata": {},
   "outputs": [],
   "source": [
    "class Solution(object):\n",
    "  memo = {0: [], 1: [TreeNode(0)]}\n",
    "\n",
    "  def allPossibleFBT(self, N):\n",
    "    if N not in Solution.memo:\n",
    "      ans = []\n",
    "      for x in range(N):\n",
    "        y = N - 1 - x\n",
    "        for left in self.allPossibleFBT(x):\n",
    "          for right in self.allPossibleFBT(y):\n",
    "            bns = TreeNode(0)\n",
    "            bns.left = left\n",
    "            bns.right = right\n",
    "            ans.append(bns)\n",
    "      Solution.memo[N] = ans\n",
    "\n",
    "    return Solution.memo[N]"
   ]
  }
 ],
 "metadata": {
  "kernelspec": {
   "display_name": "Python 3.8.10 64-bit",
   "language": "python",
   "name": "python3"
  },
  "language_info": {
   "name": "python",
   "version": "3.8.10"
  },
  "orig_nbformat": 4,
  "vscode": {
   "interpreter": {
    "hash": "31f2aee4e71d21fbe5cf8b01ff0e069b9275f58929596ceb00d14d90e3e16cd6"
   }
  }
 },
 "nbformat": 4,
 "nbformat_minor": 2
}
