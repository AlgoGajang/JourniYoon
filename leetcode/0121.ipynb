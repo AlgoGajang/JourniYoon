{
 "cells": [
  {
   "cell_type": "markdown",
   "metadata": {},
   "source": [
    "# [121. Best Time to Buy and Sell Stock](https://leetcode.com/problems/best-time-to-buy-and-sell-stock/)\n",
    "\n",
    "You are given an array `prices` where `prices[i]` is the price of a given stock on the `i^th` day.\n",
    "\n",
    "You want to maximize your profit by choosing a **single day** to buy one stock and choosing a **different day in the future** to sell that stock.\n",
    "\n",
    "Return *the maximum profit you can achieve from this transaction* . If you cannot achieve any profit, return `0`.\n",
    "\n",
    "**Example 1:**\n",
    "\n",
    "<pre><strong>Input:</strong> prices = [7,1,5,3,6,4]\n",
    "<strong>Output:</strong> 5\n",
    "<strong>Explanation:</strong> Buy on day 2 (price = 1) and sell on day 5 (price = 6), profit = 6-1 = 5.\n",
    "Note that buying on day 2 and selling on day 1 is not allowed because you must buy before you sell.\n",
    "</pre>\n",
    "\n",
    "**Example 2:**\n",
    "\n",
    "<pre><strong>Input:</strong> prices = [7,6,4,3,1]\n",
    "<strong>Output:</strong> 0\n",
    "<strong>Explanation:</strong> In this case, no transactions are done and the max profit = 0.\n",
    "</pre>\n",
    "\n",
    "**Constraints:**\n",
    "\n",
    "* `1 <= prices.length <= 10^5`\n",
    "* `0 <= prices[i] <= 10^4`\n",
    "\n",
    "## 풀이\n",
    "- 완전 탐색  \n",
    "\n",
    "**고려해야할 조건**\n",
    "1. 매수일 < 매도일 : 매수로 선택한 날 뒤의 인덱스만 매도일이 될 수 있다.  \n",
    "2. 매수가 < 매도가 : (매도가 - 매수가) >= 0 중에 가장 큰 값을 반환한다.  \n",
    "\n",
    "시뮬레이션  \n",
    "price = [7,1,5,3,6,4]  \n",
    "7,1 => 1 - 7 < 0   \n",
    "7,5 => 5 - 7 < 0  \n",
    "7,3 => 3 - 7 < 0  \n",
    "7,4 => 4 - 7 < 0  \n",
    "1,5 => 5 - 1 > 0  \n",
    "...  \n",
    "1,6 => 6 - 1 > 0  \n",
    "...  \n",
    "\n",
    "**이익이 0보다 작거나 같은 경우** 두 번째 for문을 바로 빠져나와서 시간을 줄였다."
   ]
  },
  {
   "cell_type": "code",
   "execution_count": 1,
   "metadata": {},
   "outputs": [],
   "source": [
    "// 시간 초과\n",
    "var maxProfit = function(prices) {\n",
    "  let answer = 0;\n",
    "\n",
    "  for (let i = 0; i < prices.length; i++) {\n",
    "    for (let j = i+1; j < prices.length; j++) {\n",
    "      profit = prices[j] - prices[i];\n",
    "      if(profit > 0) answer = Math.max(profit, answer);\n",
    "    }\n",
    "  }\n",
    "  return answer;\n",
    "};"
   ]
  },
  {
   "cell_type": "code",
   "execution_count": null,
   "metadata": {},
   "outputs": [],
   "source": [
    "// 통과\n",
    "var maxProfit = function(prices) {\n",
    "  let answer = 0;\n",
    "\n",
    "  for (let i = 0; i < prices.length; i++) {\n",
    "    for (let j = i+1; j < prices.length; j++) {\n",
    "      profit = prices[j] - prices[i];\n",
    "      if(profit <= 0) break;\n",
    "      answer = Math.max(profit, answer);\n",
    "    }\n",
    "  }\n",
    "  return answer;\n",
    "};"
   ]
  }
 ],
 "metadata": {
  "kernelspec": {
   "display_name": "JavaScript (Node.js)",
   "language": "javascript",
   "name": "javascript"
  },
  "language_info": {
   "file_extension": ".js",
   "mimetype": "application/javascript",
   "name": "javascript",
   "version": "16.15.1"
  },
  "orig_nbformat": 4
 },
 "nbformat": 4,
 "nbformat_minor": 2
}
