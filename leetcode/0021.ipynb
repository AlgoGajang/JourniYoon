{
 "cells": [
  {
   "cell_type": "markdown",
   "metadata": {},
   "source": [
    "# [21. Merge Two Sorted Lists](https://leetcode.com/problems/merge-two-sorted-lists/)\n",
    "\n",
    "You are given the heads of two sorted linked lists `list1` and `list2`.\n",
    "\n",
    "Merge the two lists in a one **sorted** list. The list should be made by splicing together the nodes of the first two lists.\n",
    "\n",
    "Return *the head of the merged linked list* .\n",
    "\n",
    "**Example 1:**\n",
    "\n",
    "![](https://assets.leetcode.com/uploads/2020/10/03/merge_ex1.jpg)\n",
    "\n",
    "<pre><strong>Input:</strong> list1 = [1,2,4], list2 = [1,3,4]\n",
    "<strong>Output:</strong> [1,1,2,3,4,4]\n",
    "</pre>\n",
    "\n",
    "**Example 2:**\n",
    "\n",
    "<pre><strong>Input:</strong> list1 = [], list2 = []\n",
    "<strong>Output:</strong> []\n",
    "</pre>\n",
    "\n",
    "**Example 3:**\n",
    "\n",
    "<pre><strong>Input:</strong> list1 = [], list2 = [0]\n",
    "<strong>Output:</strong> [0]\n",
    "</pre>\n",
    "\n",
    "**Constraints:**\n",
    "\n",
    "* The number of nodes in both lists is in the range `[0, 50]`.\n",
    "* `-100 <= Node.val <= 100`\n",
    "* Both `list1` and `list2` are sorted in **non-decreasing** order.\n",
    "\n",
    "## 풀이\n",
    "- Linked List\n",
    "- Recursion"
   ]
  },
  {
   "cell_type": "code",
   "execution_count": null,
   "metadata": {},
   "outputs": [],
   "source": [
    "# Definition for singly-linked list.\n",
    "# class ListNode:\n",
    "#     def __init__(self, val=0, next=None):\n",
    "#         self.val = val\n",
    "#         self.next = next\n",
    "class Solution:\n",
    "  def mergeTwoLists(self, list1: Optional[ListNode], list2: Optional[ListNode]) -> Optional[ListNode]:\n",
    "    head = tail = ListNode()\n",
    "    \n",
    "    while list1 and list2:\n",
    "      if list1.val < list2.val:\n",
    "        tail.next = list1\n",
    "        list1, tail = list1.next, list1\n",
    "      else:\n",
    "        tail.next = list2\n",
    "        list2, tail = list2.next, list2\n",
    "    if list1 or list2:\n",
    "      tail.next = list1 if list1 else list2\n",
    "    return head.next"
   ]
  },
  {
   "cell_type": "markdown",
   "metadata": {},
   "source": [
    "## 최적화"
   ]
  },
  {
   "cell_type": "code",
   "execution_count": null,
   "metadata": {},
   "outputs": [],
   "source": [
    "class Solution:\n",
    "  def mergeTwoLists(self, list1: Optional[ListNode], list2: Optional[ListNode]) -> Optional[ListNode]:\n",
    "    head = tail = ListNode(0)\n",
    "    while True:\n",
    "      if list1 is None:\n",
    "        tail.next = list2\n",
    "        break\n",
    "      if list2 is None:\n",
    "        tail.next = list1\n",
    "        break\n",
    "      if list1.val <= list2.val:\n",
    "        tail.next = list1\n",
    "        list1 = list1.next\n",
    "      else:\n",
    "        tail.next = list2\n",
    "        list2 = list2.next\n",
    "      tail = tail.next\n",
    "    return head.next"
   ]
  },
  {
   "cell_type": "code",
   "execution_count": null,
   "metadata": {},
   "outputs": [],
   "source": [
    "class Solution:\n",
    "  def mergeTwoLists(self, list1: Optional[ListNode], list2: Optional[ListNode]) -> Optional[ListNode]:\n",
    "    if list1 is None:\n",
    "      return list2\n",
    "    elif list2 is None:\n",
    "      return list1\n",
    "    elif list1.val < list2.val:\n",
    "      list1.next = self.mergeTwoLists(list1.next, list2)\n",
    "      return list1\n",
    "    else:\n",
    "      list2.next = self.mergeTwoLists(list1, list2.next)\n",
    "      return list2"
   ]
  }
 ],
 "metadata": {
  "kernelspec": {
   "display_name": "Python 3.8.10 64-bit",
   "language": "python",
   "name": "python3"
  },
  "language_info": {
   "name": "python",
   "version": "3.8.10"
  },
  "orig_nbformat": 4,
  "vscode": {
   "interpreter": {
    "hash": "31f2aee4e71d21fbe5cf8b01ff0e069b9275f58929596ceb00d14d90e3e16cd6"
   }
  }
 },
 "nbformat": 4,
 "nbformat_minor": 2
}
