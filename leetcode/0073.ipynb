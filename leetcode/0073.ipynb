{
 "cells": [
  {
   "cell_type": "markdown",
   "metadata": {},
   "source": [
    "# [73. Set Matrix Zeroes](https://leetcode.com/problems/set-matrix-zeroes/)\n",
    "\n",
    "Given an `m x n` integer matrix `matrix`, if an element is `0`, set its entire row and column to `0`'s.\n",
    "\n",
    "You must do it [in place](https://en.wikipedia.org/wiki/In-place_algorithm).\n",
    "\n",
    "**Example 1:**\n",
    "\n",
    "![](https://assets.leetcode.com/uploads/2020/08/17/mat1.jpg)\n",
    "\n",
    "<pre><strong>Input:</strong> matrix = [[1,1,1],[1,0,1],[1,1,1]]\n",
    "<strong>Output:</strong> [[1,0,1],[0,0,0],[1,0,1]]\n",
    "</pre>\n",
    "\n",
    "**Example 2:**\n",
    "\n",
    "![](https://assets.leetcode.com/uploads/2020/08/17/mat2.jpg)\n",
    "\n",
    "<pre><strong>Input:</strong> matrix = [[0,1,2,0],[3,4,5,2],[1,3,1,5]]\n",
    "<strong>Output:</strong> [[0,0,0,0],[0,4,5,0],[0,3,1,0]]\n",
    "</pre>\n",
    "\n",
    "**Constraints:**\n",
    "\n",
    "* `m == matrix.length`\n",
    "* `n == matrix[0].length`\n",
    "* `1 <= m, n <= 200`\n",
    "* `-2^31 <= matrix[i][j] <= 2^31 - 1`\n",
    "\n",
    "**Follow up:**\n",
    "\n",
    "* A straightforward solution using `O(mn)` space is probably a bad idea.\n",
    "* A simple improvement uses `O(m + n)` space, but still not the best solution.\n",
    "* Could you devise a constant space solution?\n",
    "\n",
    "## 풀이\n",
    "- Hash Table\n",
    "- Matrix"
   ]
  },
  {
   "cell_type": "code",
   "execution_count": 13,
   "metadata": {},
   "outputs": [
    {
     "name": "stdout",
     "output_type": "stream",
     "text": [
      "0 : [ true, false, false ]\n",
      "0 : [ true, false, false, false ]\n",
      "0 : [ true, false, false ]\n",
      "3 : [ true, false, false, true ]\n",
      "undefined\n"
     ]
    }
   ],
   "source": [
    "class Solution:\n",
    "    def setZeroes(self, matrix: List[List[int]]) -> None:\n",
    "        # O(1)\n",
    "        ROWS, COLS = len(matrix), len(matrix[0])\n",
    "        rowZero = False\n",
    "\n",
    "        # determine which rows/cols need to be zero\n",
    "        for r in range(ROWS):\n",
    "            for c in range(COLS):\n",
    "                if matrix[r][c] == 0:\n",
    "                    matrix[0][c] = 0\n",
    "                    if r > 0:\n",
    "                        matrix[r][0] = 0\n",
    "                    else:\n",
    "                        rowZero = True\n",
    "\n",
    "        for r in range(1, ROWS):\n",
    "            for c in range(1, COLS):\n",
    "                if matrix[0][c] == 0 or matrix[r][0] == 0:\n",
    "                    matrix[r][c] = 0\n",
    "\n",
    "        if matrix[0][0] == 0:\n",
    "            for r in range(ROWS):\n",
    "                matrix[r][0] = 0\n",
    "\n",
    "        if rowZero:\n",
    "            for c in range(COLS):\n",
    "                matrix[0][c] = 0"
   ]
  }
 ],
 "metadata": {
  "kernelspec": {
   "display_name": "Python 3.8.10 64-bit",
   "language": "python",
   "name": "python3"
  },
  "language_info": {
   "file_extension": ".js",
   "mimetype": "application/javascript",
   "name": "python",
   "version": "3.8.10"
  },
  "orig_nbformat": 4,
  "vscode": {
   "interpreter": {
    "hash": "31f2aee4e71d21fbe5cf8b01ff0e069b9275f58929596ceb00d14d90e3e16cd6"
   }
  }
 },
 "nbformat": 4,
 "nbformat_minor": 2
}
