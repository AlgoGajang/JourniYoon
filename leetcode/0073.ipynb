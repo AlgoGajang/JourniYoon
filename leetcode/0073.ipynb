{
 "cells": [
  {
   "cell_type": "markdown",
   "metadata": {},
   "source": [
    "# [73. Set Matrix Zeroes](https://leetcode.com/problems/set-matrix-zeroes/)\n",
    "\n",
    "Given an `m x n` integer matrix `matrix`, if an element is `0`, set its entire row and column to `0`'s.\n",
    "\n",
    "You must do it [in place](https://en.wikipedia.org/wiki/In-place_algorithm).\n",
    "\n",
    "**Example 1:**\n",
    "\n",
    "![](https://assets.leetcode.com/uploads/2020/08/17/mat1.jpg)\n",
    "\n",
    "<pre><strong>Input:</strong> matrix = [[1,1,1],[1,0,1],[1,1,1]]\n",
    "<strong>Output:</strong> [[1,0,1],[0,0,0],[1,0,1]]\n",
    "</pre>\n",
    "\n",
    "**Example 2:**\n",
    "\n",
    "![](https://assets.leetcode.com/uploads/2020/08/17/mat2.jpg)\n",
    "\n",
    "<pre><strong>Input:</strong> matrix = [[0,1,2,0],[3,4,5,2],[1,3,1,5]]\n",
    "<strong>Output:</strong> [[0,0,0,0],[0,4,5,0],[0,3,1,0]]\n",
    "</pre>\n",
    "\n",
    "**Constraints:**\n",
    "\n",
    "* `m == matrix.length`\n",
    "* `n == matrix[0].length`\n",
    "* `1 <= m, n <= 200`\n",
    "* `-2^31 <= matrix[i][j] <= 2^31 - 1`\n",
    "\n",
    "**Follow up:**\n",
    "\n",
    "* A straightforward solution using `O(mn)` space is probably a bad idea.\n",
    "* A simple improvement uses `O(m + n)` space, but still not the best solution.\n",
    "* Could you devise a constant space solution?\n",
    "\n",
    "## 풀이"
   ]
  },
  {
   "cell_type": "code",
   "execution_count": 13,
   "metadata": {},
   "outputs": [
    {
     "name": "stdout",
     "output_type": "stream",
     "text": [
      "0 : [ true, false, false ]\n",
      "0 : [ true, false, false, false ]\n",
      "0 : [ true, false, false ]\n",
      "3 : [ true, false, false, true ]\n",
      "undefined\n"
     ]
    }
   ],
   "source": [
    "var setZeroes = function(matrix) {\n",
    "  let column = matrix.length;\n",
    "  let row = matrix[0].length;\n",
    "  let columnFlag = new Array(column).fill(false);\n",
    "  let rowFlag = new Array(row).fill(false);\n",
    "  for (let x = 0; x < column; x++) {\n",
    "    for (let y = 0; y < row; y++) {\n",
    "      if(matrix[x][y] === 0 && rowFlag[y] === false) {\n",
    "        columnFlag[x] = true;\n",
    "        rowFlag[y] = true;\n",
    "      }\n",
    "    }\n",
    "  }\n",
    "  // console.log(columnFlag, rowFlag)\n",
    "};\n",
    "var matrix = [[0,1,2,0],[3,4,5,2],[1,3,1,5]];\n",
    "console.log(setZeroes(matrix));"
   ]
  }
 ],
 "metadata": {
  "kernelspec": {
   "display_name": "JavaScript (Node.js)",
   "language": "javascript",
   "name": "javascript"
  },
  "language_info": {
   "file_extension": ".js",
   "mimetype": "application/javascript",
   "name": "javascript",
   "version": "16.15.1"
  },
  "orig_nbformat": 4,
  "vscode": {
   "interpreter": {
    "hash": "7e1998ff7f8aa20ada591c520b972326324e5ea05489af9e422744c7c09f6dad"
   }
  }
 },
 "nbformat": 4,
 "nbformat_minor": 2
}
