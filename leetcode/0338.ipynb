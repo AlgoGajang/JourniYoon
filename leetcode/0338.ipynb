{
 "cells": [
  {
   "cell_type": "markdown",
   "metadata": {},
   "source": [
    "# [338. Counting Bits](https://leetcode.com/problems/counting-bits/)\n",
    "\n",
    "Given an integer `n`, return *an array * `ans`* of length * `n + 1`* such that for each * `i`* * (`0 <= i <= n`)*, * `ans[i]`* is the **number of *** `1`***'s** in the binary representation of * `i`.\n",
    "\n",
    "**Example 1:**\n",
    "\n",
    "<pre><strong>Input:</strong> n = 2\n",
    "<strong>Output:</strong> [0,1,1]\n",
    "<strong>Explanation:</strong>\n",
    "0 --> 0\n",
    "1 --> 1\n",
    "2 --> 10\n",
    "</pre>\n",
    "\n",
    "**Example 2:**\n",
    "\n",
    "<pre><strong>Input:</strong> n = 5\n",
    "<strong>Output:</strong> [0,1,1,2,1,2]\n",
    "<strong>Explanation:</strong>\n",
    "0 --> 0\n",
    "1 --> 1\n",
    "2 --> 10\n",
    "3 --> 11\n",
    "4 --> 100\n",
    "5 --> 101\n",
    "</pre>\n",
    "\n",
    "**Constraints:**\n",
    "\n",
    "* `0 <= n <= 10<sup>5</sup>`\n",
    "\n",
    "**Follow up:**\n",
    "\n",
    "* It is very easy to come up with a solution with a runtime of `O(n log n)`. Can you do it in linear time `O(n)` and possibly in a single pass?\n",
    "* Can you do it without using any built-in function (i.e., like `__builtin_popcount` in C++)?\n",
    "\n",
    "## 풀이\n",
    "주어진 n까지 숫자를 binary로 변환한다.  \n",
    "변환된 값에서 1의 개수를 카운트한다.  "
   ]
  },
  {
   "cell_type": "code",
   "execution_count": null,
   "metadata": {},
   "outputs": [],
   "source": [
    "from typing import List\n",
    "\n",
    "\n",
    "class Solution:\n",
    "  def countBits(self, n: int) -> List[int]:\n",
    "    res = [0]*(n + 1)\n",
    "    for i in range(0, n+1):\n",
    "      res[i] = (bin(i).count(\"1\"))\n",
    "    return res"
   ]
  },
  {
   "cell_type": "markdown",
   "metadata": {},
   "source": [
    "## 최적화 1\n",
    "- Dynamic Programming\n",
    "- Bit Manipulation\n",
    "\n",
    "홀수와 짝수의 경우로 나누어 생각해볼 수 있다.  \n",
    "- countBits(N) = countBits(2N)\n",
    "- countBits(N)+1 = countBits(2N+1)\n",
    "따라서 임의의 숫자가 해당 숫자의 절반과 동일한 비트 수를 가지며 홀수인 경우에만 추가로 하나를 더 가진다."
   ]
  },
  {
   "cell_type": "code",
   "execution_count": null,
   "metadata": {},
   "outputs": [],
   "source": [
    "class Solution:\n",
    "    def countBits(self, n: int) -> List[int]:\n",
    "        # two cases\n",
    "        # if number is odd, number // 2 + one extra zero\n",
    "        # 0101 -> 5\n",
    "        # 0010 -> 2\n",
    "        \n",
    "        # if number is even, same number of ones\n",
    "        # 0100 -> 4\n",
    "        # 0010 -> 2\n",
    "        \n",
    "        result = [0] * (n + 1)\n",
    "        for i in range(n + 1):\n",
    "            num_of_ones = 0\n",
    "            if i & 1:\n",
    "                num_of_ones = result[i // 2] + 1\n",
    "            else:\n",
    "                num_of_ones = result[i // 2]\n",
    "            result[i] = num_of_ones\n",
    "        \n",
    "        return result"
   ]
  },
  {
   "cell_type": "markdown",
   "metadata": {},
   "source": [
    "## 최적화 2\n",
    "- Dynamic Programming\n",
    "\n",
    "지수: 0 1 2 3 4 5 6 7 8 9 10 11 12 13 14 15  \n",
    "개수: 0 1 1 2 1 2 2 3 1 2  2  3  2  3  3  4  \n",
    "dp[0] = 0;\n",
    "\n",
    "dp[1] = dp[0] + 1;\n",
    "\n",
    "dp[2] = dp[0] + 1;\n",
    "\n",
    "dp[3] = dp[1] +1;\n",
    "\n",
    "dp[4] = dp[0] + 1;\n",
    "\n",
    "dp[5] = dp[1] + 1;\n",
    "\n",
    "dp[6] = dp[2] + 1;\n",
    "\n",
    "dp[7] = dp[3] + 1;\n",
    "\n",
    "dp[8] = dp[0] + 1;\n",
    ".\n",
    ".\n",
    ".\n",
    "dp[0] = 0;\n",
    "\n",
    "dp[1] = dp[1-1] + 1;\n",
    "\n",
    "dp[2] = dp[2-2] + 1;\n",
    "\n",
    "dp[3] = dp[3-2] +1;\n",
    "\n",
    "dp[4] = dp[4-4] + 1;\n",
    "\n",
    "dp[5] = dp[5-4] + 1;\n",
    "\n",
    "dp[6] = dp[6-4] + 1;\n",
    "\n",
    "dp[7] = dp[7-4] + 1;\n",
    "\n",
    "dp[8] = dp[8-8] + 1;\n",
    "\n",
    "결론식: dp[index] = dp[index - offset] + 1;\n",
    "\n",
    "\n"
   ]
  },
  {
   "cell_type": "code",
   "execution_count": null,
   "metadata": {},
   "outputs": [],
   "source": [
    "class Solution:\n",
    "  def countBits(self, n: int) -> List[int]:\n",
    "    dp = [0] * (n + 1)\n",
    "    offset = 1\n",
    "\n",
    "    for i in range(1, n + 1):\n",
    "      if offset * 2 == i:\n",
    "        offset = i\n",
    "      dp[i] = 1 + dp[i - offset]\n",
    "    return dp"
   ]
  }
 ],
 "metadata": {
  "kernelspec": {
   "display_name": "Python 3.8.10 64-bit",
   "language": "python",
   "name": "python3"
  },
  "language_info": {
   "codemirror_mode": {
    "name": "ipython",
    "version": 3
   },
   "file_extension": ".py",
   "mimetype": "text/x-python",
   "name": "python",
   "nbconvert_exporter": "python",
   "pygments_lexer": "ipython3",
   "version": "3.8.10"
  },
  "orig_nbformat": 4,
  "vscode": {
   "interpreter": {
    "hash": "31f2aee4e71d21fbe5cf8b01ff0e069b9275f58929596ceb00d14d90e3e16cd6"
   }
  }
 },
 "nbformat": 4,
 "nbformat_minor": 2
}
