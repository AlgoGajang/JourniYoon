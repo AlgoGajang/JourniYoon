{
 "cells": [
  {
   "cell_type": "markdown",
   "metadata": {},
   "source": [
    "# [347. Top K Frequent Elements](https://leetcode.com/problems/top-k-frequent-elements/)\n",
    "\n",
    "Given an integer array `nums` and an integer `k`, return *the* `k` *most frequent elements* . You may return the answer in **any order** .\n",
    "\n",
    "**Example 1:**\n",
    "\n",
    "<pre><strong>Input:</strong> nums = [1,1,1,2,2,3], k = 2\n",
    "<strong>Output:</strong> [1,2]\n",
    "</pre>\n",
    "\n",
    "**Example 2:**\n",
    "\n",
    "<pre><strong>Input:</strong> nums = [1], k = 1\n",
    "<strong>Output:</strong> [1]\n",
    "</pre>\n",
    "\n",
    "**Constraints:**\n",
    "\n",
    "* `1 <= nums.length <= 10<sup>5</sup>`\n",
    "* `-10<sup>4</sup><span> </span><= nums[i] <= 10<sup>4</sup>`\n",
    "* `k` is in the range `[1, the number of unique elements in the array]`.\n",
    "* It is **guaranteed** that the answer is **unique** .\n",
    "\n",
    "**Follow up:** Your algorithm's time complexity must be better than `O(n log n)`, where n is the array's size.\n",
    "\n",
    "## 풀이\n",
    "- Hash Table\n",
    "- Heap (Priority Queue)\n",
    "nums List를 {key(숫자): value(빈도)} 형태로 해시 테이블에 저장한다.  \n",
    "해시 테이블을 우선순위 큐에 빈도가 높은 순으로 저장한다.  \n",
    "큐에서 주어진 K만큼 배열에 저장해 반환한다."
   ]
  },
  {
   "cell_type": "code",
   "execution_count": 28,
   "metadata": {},
   "outputs": [],
   "source": [
    "import collections\n",
    "from queue import PriorityQueue\n",
    "from typing import List\n",
    "\n",
    "class Solution:\n",
    "  def topKFrequent(self, nums: List[int], k: int) -> List[int]:\n",
    "    res = []\n",
    "    count = collections.Counter(nums)\n",
    "    que = PriorityQueue()\n",
    "    \n",
    "    for i in count.keys():\n",
    "      que.put((-count[i], i))\n",
    "    \n",
    "    while not que.empty() and k > 0:\n",
    "      res.append(que.get()[1])\n",
    "      k -= 1\n",
    "      \n",
    "    return res"
   ]
  },
  {
   "cell_type": "code",
   "execution_count": 29,
   "metadata": {},
   "outputs": [
    {
     "name": "stdout",
     "output_type": "stream",
     "text": [
      "[7, 5]\n"
     ]
    }
   ],
   "source": [
    "nums = [2,7,7,7,7,7,7,5,5,5,5,4,4]\n",
    "k = 2\n",
    "solution = Solution()\n",
    "print(solution.topKFrequent(nums, k))"
   ]
  },
  {
   "cell_type": "markdown",
   "metadata": {},
   "source": [
    "## 최적화"
   ]
  },
  {
   "cell_type": "code",
   "execution_count": null,
   "metadata": {},
   "outputs": [],
   "source": [
    "from collections import Counter\n",
    "import heapq\n",
    "class Solution:\n",
    "  def topKFrequent(self, nums: List[int], k: int) -> List[int]:\n",
    "    counter = Counter(nums)\n",
    "    \n",
    "    return heapq.nlargest(k, counter.keys(), counter.get)"
   ]
  }
 ],
 "metadata": {
  "kernelspec": {
   "display_name": "Python 3.8.10 64-bit",
   "language": "python",
   "name": "python3"
  },
  "language_info": {
   "codemirror_mode": {
    "name": "ipython",
    "version": 3
   },
   "file_extension": ".py",
   "mimetype": "text/x-python",
   "name": "python",
   "nbconvert_exporter": "python",
   "pygments_lexer": "ipython3",
   "version": "3.8.10"
  },
  "orig_nbformat": 4,
  "vscode": {
   "interpreter": {
    "hash": "31f2aee4e71d21fbe5cf8b01ff0e069b9275f58929596ceb00d14d90e3e16cd6"
   }
  }
 },
 "nbformat": 4,
 "nbformat_minor": 2
}
