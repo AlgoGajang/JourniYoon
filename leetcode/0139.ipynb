{
 "cells": [
  {
   "cell_type": "markdown",
   "metadata": {},
   "source": [
    "# [139. Word Break](https://leetcode.com/problems/word-break/)\n",
    "\n",
    "Given a string `s` and a dictionary of strings `wordDict`, return `true` if `s` can be segmented into a space-separated sequence of one or more dictionary words.\n",
    "\n",
    "**Note** that the same word in the dictionary may be reused multiple times in the segmentation.\n",
    "\n",
    "**Example 1:**\n",
    "\n",
    "<pre><strong>Input:</strong> s = \"leetcode\", wordDict = [\"leet\",\"code\"]\n",
    "<strong>Output:</strong> true\n",
    "<strong>Explanation:</strong> Return true because \"leetcode\" can be segmented as \"leet code\".\n",
    "</pre>\n",
    "\n",
    "**Example 2:**\n",
    "\n",
    "<pre><strong>Input:</strong> s = \"applepenapple\", wordDict = [\"apple\",\"pen\"]\n",
    "<strong>Output:</strong> true\n",
    "<strong>Explanation:</strong> Return true because \"applepenapple\" can be segmented as \"apple pen apple\".\n",
    "Note that you are allowed to reuse a dictionary word.\n",
    "</pre>\n",
    "\n",
    "**Example 3:**\n",
    "\n",
    "<pre><strong>Input:</strong> s = \"catsandog\", wordDict = [\"cats\",\"dog\",\"sand\",\"and\",\"cat\"]\n",
    "<strong>Output:</strong> false\n",
    "</pre>\n",
    "\n",
    "**Constraints:**\n",
    "\n",
    "* `1 <= s.length <= 300`\n",
    "* `1 <= wordDict.length <= 1000`\n",
    "* `1 <= wordDict[i].length <= 20`\n",
    "* `s` and `wordDict[i]` consist of only lowercase English letters.\n",
    "* All the strings of `wordDict` are **unique** .\n",
    "\n",
    "## 풀이\n",
    "- Dynamic Programming\n",
    "- Memoization"
   ]
  },
  {
   "cell_type": "code",
   "execution_count": null,
   "metadata": {},
   "outputs": [],
   "source": [
    "from typing import List\n",
    "class Solution:\n",
    "  def wordBreak(self, s: str, wordDict: List[str]) -> bool:\n",
    "    dic = {}\n",
    "    for word in wordDict:\n",
    "      if word[:1] in dic:\n",
    "        dic[word[:1]].append(word)\n",
    "      else:\n",
    "        dic[word[:1]] = [word]\n",
    "    \n",
    "    while len(s):\n",
    "      i = 0\n",
    "      if s[i] in dic:\n",
    "        i = len(dic[s[0]][0])\n",
    "        "
   ]
  },
  {
   "cell_type": "markdown",
   "metadata": {},
   "source": [
    "## 최적화"
   ]
  },
  {
   "cell_type": "code",
   "execution_count": null,
   "metadata": {},
   "outputs": [],
   "source": [
    "class Solution:\n",
    "  def wordBreak(self, s: str, wordDict: List[str]) -> bool:\n",
    "\n",
    "    dp = [False] * (len(s) + 1)\n",
    "    dp[len(s)] = True\n",
    "\n",
    "    for i in range(len(s) - 1, -1, -1):\n",
    "      for w in wordDict:\n",
    "        if (i + len(w)) <= len(s) and s[i : i + len(w)] == w:\n",
    "          dp[i] = dp[i + len(w)]\n",
    "        if dp[i]:\n",
    "          break\n",
    "\n",
    "    return dp[0]"
   ]
  }
 ],
 "metadata": {
  "kernelspec": {
   "display_name": "Python 3.8.10 64-bit",
   "language": "python",
   "name": "python3"
  },
  "language_info": {
   "name": "python",
   "version": "3.8.10"
  },
  "orig_nbformat": 4,
  "vscode": {
   "interpreter": {
    "hash": "31f2aee4e71d21fbe5cf8b01ff0e069b9275f58929596ceb00d14d90e3e16cd6"
   }
  }
 },
 "nbformat": 4,
 "nbformat_minor": 2
}
