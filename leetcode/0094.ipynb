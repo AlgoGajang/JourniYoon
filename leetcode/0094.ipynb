{
 "cells": [
  {
   "cell_type": "markdown",
   "metadata": {},
   "source": [
    "# [94. Binary Tree Inorder Traversal](https://leetcode.com/problems/binary-tree-inorder-traversal/)\n",
    "\n",
    "## 풀이"
   ]
  },
  {
   "cell_type": "code",
   "execution_count": null,
   "metadata": {},
   "outputs": [],
   "source": [
    "/**\n",
    " * Definition for a binary tree node.\n",
    " * function TreeNode(val, left, right) {\n",
    " *     this.val = (val===undefined ? 0 : val)\n",
    " *     this.left = (left===undefined ? null : left)\n",
    " *     this.right = (right===undefined ? null : right)\n",
    " * }\n",
    " */\n",
    "/**\n",
    " * @param {TreeNode} root\n",
    " * @return {number[]}\n",
    " */\n",
    " var inorderTraversal = function(root) {\n",
    "  let answer = [];\n",
    "    let visited = []; // Queue\n",
    "    let need_visit = []; // Stack\n",
    "    need_visit.push(root[0]);\n",
    "    while(need_visit.length) {\n",
    "      const node = need_visit.pop();\n",
    "      answer.push(node);\n",
    "      for (let i = 0; i < root.length; i++) {\n",
    "        if(!(node in visited)) {\n",
    "          visited.push(node);\n",
    "          need_visit.push(root[i])\n",
    "        }\n",
    "      }\n",
    "    }\n",
    "    return answer;\n",
    "};"
   ]
  }
 ],
 "metadata": {
  "kernelspec": {
   "display_name": "JavaScript (Node.js)",
   "language": "javascript",
   "name": "javascript"
  },
  "language_info": {
   "name": "javascript"
  },
  "orig_nbformat": 4
 },
 "nbformat": 4,
 "nbformat_minor": 2
}
