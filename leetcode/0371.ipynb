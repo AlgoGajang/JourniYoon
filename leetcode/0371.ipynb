{
 "cells": [
  {
   "cell_type": "markdown",
   "metadata": {},
   "source": [
    "# 371. [Sum of Two Integers](https://leetcode.com/problems/sum-of-two-integers/)"
   ]
  },
  {
   "cell_type": "markdown",
   "metadata": {},
   "source": [
    "## 풀이"
   ]
  },
  {
   "cell_type": "code",
   "execution_count": null,
   "metadata": {
    "vscode": {
     "languageId": "javascript"
    }
   },
   "outputs": [],
   "source": [
    "const getSum = function(a, b) {\n",
    "  let carry;\n",
    "  while(b) {\n",
    "      carry = a & b;\n",
    "      a ^= b;\n",
    "      b = carry << 1;\n",
    "  }\n",
    "  return a;\n",
    "}; "
   ]
  },
  {
   "cell_type": "markdown",
   "metadata": {},
   "source": [
    "## 비트 연산자\n",
    "- 비트 AND\n",
    "- 비트 OR\n",
    "- 비트 XOR\n",
    "- 비트 NOT\n",
    "- 왼쪽 시프트\n",
    "- 오른쪽 시프트\n",
    "- 부호 없는 오른쪽 시프트"
   ]
  },
  {
   "cell_type": "code",
   "execution_count": null,
   "metadata": {
    "vscode": {
     "languageId": "javascript"
    }
   },
   "outputs": [],
   "source": [
    "const a = 5;        // 00000000000000000000000000000101\n",
    "const b = 3;        // 00000000000000000000000000000011\n",
    "\n",
    "console.log(a & b); // 00000000000000000000000000000001\n",
    "// expected output: 1\n",
    "\n",
    "console.log(a | b); // 00000000000000000000000000000111\n",
    "// expected output: 7\n",
    "\n",
    "console.log(a ^ b); // 00000000000000000000000000000110\n",
    "// expected output: 6\n",
    "\n",
    "console.log(~a); // 11111111111111111111111111111010\n",
    "// expected output: -6\n",
    "\n",
    "console.log(~b); // 00000000000000000000000000000010\n",
    "// expected output: 2\n",
    "\n",
    "console.log(a << b); // 00000000000000000000000000101000\n",
    "// expected output: 40\n",
    "\n",
    "console.log(a >> b);  //  00000000000000000000000000000000\n",
    "// expected output: 0\n",
    "\n"
   ]
  }
 ],
 "metadata": {
  "kernelspec": {
   "display_name": "Python 3.8.10 64-bit",
   "language": "python",
   "name": "python3"
  },
  "language_info": {
   "name": "python",
   "version": "3.8.10"
  },
  "orig_nbformat": 4,
  "vscode": {
   "interpreter": {
    "hash": "916dbcbb3f70747c44a77c7bcd40155683ae19c65e1c03b4aa3499c5328201f1"
   }
  }
 },
 "nbformat": 4,
 "nbformat_minor": 2
}
