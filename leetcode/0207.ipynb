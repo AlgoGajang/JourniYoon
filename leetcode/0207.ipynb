{
 "cells": [
  {
   "cell_type": "markdown",
   "metadata": {},
   "source": [
    "# [207. Course Schedule](https://leetcode.com/problems/course-schedule/)\n",
    "\n",
    "There are a total of `numCourses` courses you have to take, labeled from `0` to `numCourses - 1`. You are given an array `prerequisites` where `prerequisites[i] = [ai, bi]` indicates that you **must** take course `bi` first if you want to take course `ai`.\n",
    "\n",
    "* For example, the pair `[0, 1]`, indicates that to take course `0` you have to first take course `1`.\n",
    "\n",
    "Return `true` if you can finish all courses. Otherwise, return `false`.\n",
    "\n",
    "**Example 1:**\n",
    "\n",
    "<pre><strong>Input:</strong> numCourses = 2, prerequisites = [[1,0]]\n",
    "<strong>Output:</strong> true\n",
    "<strong>Explanation:</strong> There are a total of 2 courses to take. \n",
    "To take course 1 you should have finished course 0. So it is possible.\n",
    "</pre>\n",
    "\n",
    "**Example 2:**\n",
    "\n",
    "<pre><strong>Input:</strong> numCourses = 2, prerequisites = [[1,0],[0,1]]\n",
    "<strong>Output:</strong> false\n",
    "<strong>Explanation:</strong> There are a total of 2 courses to take. \n",
    "To take course 1 you should have finished course 0, and to take course 0 you should also have finished course 1. So it is impossible.\n",
    "</pre>\n",
    "\n",
    "**Constraints:**\n",
    "\n",
    "* `1 <= numCourses <= 2000`\n",
    "* `0 <= prerequisites.length <= 5000`\n",
    "* `prerequisites[i].length == 2`\n",
    "* `0 <= ai, bi < numCourses`\n",
    "* All the pairs prerequisites[i] are **unique** .\n",
    "\n",
    "## 풀이\n",
    "- Topological Sort\n",
    "- Graph\n",
    "`비순환 방향 그래프`문제이다. 주어진 케이스에서 순환하는 구조(사이클)이 있다면 선수 과목 조건을 만족하지 않는다."
   ]
  },
  {
   "cell_type": "code",
   "execution_count": 1,
   "metadata": {},
   "outputs": [
    {
     "name": "stdout",
     "output_type": "stream",
     "text": [
      "true\n"
     ]
    }
   ],
   "source": [
    "function makeGraph(numCourses, prerequisites) {\n",
    "  let graph = Array.from({length: numCourses},()=> []);\n",
    "\n",
    "  for (const edge of prerequisites) {\n",
    "    let [a,b] = edge;\n",
    "    if(!(a in graph)) graph[a] = [];\n",
    "    if(!(b in graph)) graph[b] = [];\n",
    "    graph[a].push(b);\n",
    "  }\n",
    "  return graph;\n",
    "}\n",
    "var canFinish = function(numCourses, prerequisites) {\n",
    "  const graph = makeGraph(numCourses, prerequisites);\n",
    "  let seen = new Set();\n",
    "  let seeing = new Set();\n",
    "\n",
    "  function explore(course) {\n",
    "    if (seen.has(course)) return true;\n",
    "    if (seeing.has(course)) return false;\n",
    "\n",
    "    seeing.add(course);\n",
    "    for (let neighbor of graph[course]) {\n",
    "      if (!explore(neighbor)) return false;\n",
    "    }\n",
    "\n",
    "    seen.add(course);\n",
    "    seeing.delete(course);\n",
    "    return true;\n",
    "  }\n",
    "\n",
    "  for (let i = 0; i < numCourses; i++) {\n",
    "    if (!explore(i)) return false;\n",
    "  }\n",
    "  return true;\n",
    "}\n",
    "\n",
    "console.log(canFinish(5, [[0,1],[0,2],[1,3],[1,4],[3,4]]));"
   ]
  }
 ],
 "metadata": {
  "kernelspec": {
   "display_name": "JavaScript (Node.js)",
   "language": "javascript",
   "name": "javascript"
  },
  "language_info": {
   "file_extension": ".js",
   "mimetype": "application/javascript",
   "name": "javascript",
   "version": "16.15.1"
  },
  "orig_nbformat": 4
 },
 "nbformat": 4,
 "nbformat_minor": 2
}
