{
 "cells": [
  {
   "cell_type": "markdown",
   "metadata": {},
   "source": [
    "# 70. [Climbing Stairs](https://leetcode.com/problems/climbing-stairs/)\n",
    "\n",
    "## 풀이\n",
    "\n",
    "|n|1|2|3|4|5|6|\n",
    "|-|-|-|-|-|-|-|\n",
    "|way|1|2|3|5|8|13|\n",
    "\n",
    "총 방법의 가지 수는 피보나치 수열이라는 것을 확인할 수 있다.<br>\n",
    "내부 함수에서 재귀를 사용하고, memoization으로 시간복잡도를 고려했다.\n"
   ]
  },
  {
   "cell_type": "code",
   "execution_count": 9,
   "metadata": {},
   "outputs": [
    {
     "name": "stdout",
     "output_type": "stream",
     "text": [
      "13\n"
     ]
    }
   ],
   "source": [
    "function climbStairs(n) {\n",
    "  let memo = [1]; // memoization\n",
    "  const fibo = (n) => {\n",
    "    if (n <= 3) return n;\n",
    "    if (memo[n] !== undefined) return memo[n];\n",
    "    memo[n] = fibo(n - 1) + fibo(n - 2);\n",
    "    return memo[n];\n",
    "  };\n",
    "  return fibo(n);\n",
    "};\n",
    "\n",
    "console.log(climbStairs(6))"
   ]
  },
  {
   "cell_type": "markdown",
   "metadata": {},
   "source": [
    "## 최적화"
   ]
  }
 ],
 "metadata": {
  "kernelspec": {
   "display_name": "JavaScript (Node.js)",
   "language": "javascript",
   "name": "javascript"
  },
  "language_info": {
   "file_extension": ".js",
   "mimetype": "application/javascript",
   "name": "javascript",
   "version": "16.15.1"
  },
  "orig_nbformat": 4,
  "vscode": {
   "interpreter": {
    "hash": "916dbcbb3f70747c44a77c7bcd40155683ae19c65e1c03b4aa3499c5328201f1"
   }
  }
 },
 "nbformat": 4,
 "nbformat_minor": 2
}
