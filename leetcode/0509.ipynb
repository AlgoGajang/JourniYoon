{
 "cells": [
  {
   "cell_type": "markdown",
   "metadata": {},
   "source": [
    "# [509. Fibonacci Number](https://leetcode.com/problems/fibonacci-number/)\n",
    "\n",
    "The **Fibonacci numbers** , commonly denoted `F(n)` form a sequence, called the **Fibonacci sequence** , such that each number is the sum of the two preceding ones, starting from `0` and `1`. That is,\n",
    "\n",
    "```\n",
    "F(0) = 0, F(1) = 1\n",
    "F(n) = F(n - 1) + F(n - 2), for n > 1.\n",
    "```\n",
    "\n",
    "Given `n`, calculate `F(n)`.\n",
    "\n",
    "**Example 1:**\n",
    "\n",
    "<pre><strong>Input:</strong> n = 2\n",
    "<strong>Output:</strong> 1\n",
    "<strong>Explanation:</strong> F(2) = F(1) + F(0) = 1 + 0 = 1.\n",
    "</pre>\n",
    "\n",
    "**Example 2:**\n",
    "\n",
    "<pre><strong>Input:</strong> n = 3\n",
    "<strong>Output:</strong> 2\n",
    "<strong>Explanation:</strong> F(3) = F(2) + F(1) = 1 + 1 = 2.\n",
    "</pre>\n",
    "\n",
    "**Example 3:**\n",
    "\n",
    "<pre><strong>Input:</strong> n = 4\n",
    "<strong>Output:</strong> 3\n",
    "<strong>Explanation:</strong> F(4) = F(3) + F(2) = 2 + 1 = 3.\n",
    "</pre>\n",
    "\n",
    "**Constraints:**\n",
    "\n",
    "* `0 <= n <= 30`\n",
    "\n",
    "## 풀이\n",
    "- Recursion\n"
   ]
  },
  {
   "cell_type": "code",
   "execution_count": null,
   "metadata": {},
   "outputs": [],
   "source": [
    "class Solution:\n",
    "  def fib(self, n: int) -> int: \n",
    "    F = {}\n",
    "    F[0], F[1] = 0, 1\n",
    "    \n",
    "    for i in range(2, n+1):\n",
    "      F[i] = F[i - 2] + F[i - 1]\n",
    "    return F[n]"
   ]
  }
 ],
 "metadata": {
  "kernelspec": {
   "display_name": "Python 3.8.10 64-bit",
   "language": "python",
   "name": "python3"
  },
  "language_info": {
   "name": "python",
   "version": "3.8.10"
  },
  "orig_nbformat": 4,
  "vscode": {
   "interpreter": {
    "hash": "31f2aee4e71d21fbe5cf8b01ff0e069b9275f58929596ceb00d14d90e3e16cd6"
   }
  }
 },
 "nbformat": 4,
 "nbformat_minor": 2
}
