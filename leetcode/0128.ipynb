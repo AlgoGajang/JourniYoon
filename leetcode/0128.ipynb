{
 "cells": [
  {
   "cell_type": "markdown",
   "metadata": {},
   "source": [
    "# [128. Longest Consecutive Sequence](https://leetcode.com/problems/longest-consecutive-sequence/)\n",
    "\n",
    "Given an unsorted array of integers `nums`, return *the length of the longest consecutive elements sequence.*\n",
    "\n",
    "You must write an algorithm that runs in `O(n)` time.\n",
    "\n",
    "**Example 1:**\n",
    "\n",
    "<pre><strong>Input:</strong> nums = [100,4,200,1,3,2]\n",
    "<strong>Output:</strong> 4\n",
    "<strong>Explanation:</strong> The longest consecutive elements sequence is <code>[1, 2, 3, 4]</code>. Therefore its length is 4.\n",
    "</pre>\n",
    "\n",
    "**Example 2:**\n",
    "\n",
    "<pre><strong>Input:</strong> nums = [0,3,7,2,5,8,4,6,0,1]\n",
    "<strong>Output:</strong> 9\n",
    "</pre>\n",
    "\n",
    "**Constraints:**\n",
    "\n",
    "* `0 <= nums.length <= 10^5`\n",
    "* `-10^9 <= nums[i] <= 10^9`\n",
    "\n",
    "## 풀이"
   ]
  },
  {
   "cell_type": "code",
   "execution_count": 31,
   "metadata": {},
   "outputs": [
    {
     "name": "stdout",
     "output_type": "stream",
     "text": [
      "4\n",
      "9\n"
     ]
    }
   ],
   "source": [
    "var longestConsecutive = function(nums) {\n",
    "  let answer = 1;\n",
    "  let count = 1;\n",
    "  let newNums = [...new Set(nums.sort((a,b)=> a-b))]\n",
    "  if (!nums.length) return 0;\n",
    "  for(let i = 0;i<newNums.length; i++) {\n",
    "      if(newNums[i+1] - newNums[i] === 1 ) {\n",
    "          count++;            \n",
    "      } else {\n",
    "          answer = Math.max(answer, count);\n",
    "          count = 1;\n",
    "      } \n",
    "  } \n",
    "  return Math.max(answer, count)\n",
    "};\n",
    "console.log(longestConsecutive([100,4,200,1,3,2]))\n",
    "console.log(longestConsecutive([0,3,7,2,5,8,4,6,0,1]));"
   ]
  },
  {
   "cell_type": "markdown",
   "metadata": {},
   "source": [
    "## 최적화\n",
    "Q: 시퀀스를 어떻게 만들어줄 수 있을까?  \n",
    "A: 왼쪽 이웃이 있는지 확인하라."
   ]
  },
  {
   "cell_type": "code",
   "execution_count": 16,
   "metadata": {},
   "outputs": [
    {
     "name": "stdout",
     "output_type": "stream",
     "text": [
      "4\n",
      "9\n",
      "0\n",
      "5\n"
     ]
    }
   ],
   "source": [
    "var longestConsecutive = function(nums) {\n",
    "  let hash = new Set(nums);\n",
    "  let longest = 0;\n",
    "\n",
    "  for (let n = 0; n < nums.length; n++) {\n",
    "    let length = 0;\n",
    "    if(!(hash.has(nums[n]-1))) {\n",
    "      length = 1;\n",
    "      // continue;\n",
    "    }\n",
    "    while(hash.has(nums[n]+length)) {\n",
    "      length += 1;\n",
    "    }\n",
    "    longest = Math.max(length, longest)\n",
    "  }\n",
    "  return longest;\n",
    "}\n",
    "console.log(longestConsecutive([100,4,200,1,3,2])) // 4\n",
    "console.log(longestConsecutive([0,3,7,2,5,8,4,6,0,1])); // 9\n",
    "console.log(longestConsecutive([])); // 0\n",
    "console.log(longestConsecutive([4,0,-4,-2,2,5,2,0,-8,-8,-8,-8,-1,7,4,5,5,-4,6,6,-3])); // 5"
   ]
  },
  {
   "cell_type": "code",
   "execution_count": 10,
   "metadata": {},
   "outputs": [
    {
     "name": "stdout",
     "output_type": "stream",
     "text": [
      "100\n",
      "4\n",
      "200\n",
      "1\n",
      "3\n",
      "2\n",
      "4\n",
      "0\n",
      "3\n",
      "7\n",
      "2\n",
      "5\n",
      "8\n",
      "4\n",
      "6\n",
      "1\n",
      "9\n"
     ]
    }
   ],
   "source": [
    "var longestConsecutive = function(nums) {\n",
    "  const numSet = new Set(nums);\n",
    "  let longest = 0\n",
    "\n",
    "  for(let num of numSet){\n",
    "    console.log(num)\n",
    "      if(numSet.has(num-1)) continue;\n",
    "      let length = 0 \n",
    "      while(numSet.has(num+length)){\n",
    "          length++\n",
    "      }\n",
    "      longest = Math.max(length, longest)\n",
    "  }\n",
    "\n",
    "  return longest\n",
    "};\n",
    "\n",
    "console.log(longestConsecutive([100,4,200,1,3,2])) // 4\n",
    "console.log(longestConsecutive([0,3,7,2,5,8,4,6,0,1])); // 9"
   ]
  }
 ],
 "metadata": {
  "kernelspec": {
   "display_name": "JavaScript (Node.js)",
   "language": "javascript",
   "name": "javascript"
  },
  "language_info": {
   "file_extension": ".js",
   "mimetype": "application/javascript",
   "name": "javascript",
   "version": "16.15.1"
  },
  "orig_nbformat": 4,
  "vscode": {
   "interpreter": {
    "hash": "7e1998ff7f8aa20ada591c520b972326324e5ea05489af9e422744c7c09f6dad"
   }
  }
 },
 "nbformat": 4,
 "nbformat_minor": 2
}
