{
 "cells": [
  {
   "cell_type": "markdown",
   "metadata": {},
   "source": [
    "# [54. Spiral Matrix](https://leetcode.com/problems/spiral-matrix/)\n",
    "\n",
    "Given an `m x n` `matrix`, return *all elements of the* `matrix` *in spiral order* .\n",
    "\n",
    "**Example 1:**\n",
    "\n",
    "![](https://assets.leetcode.com/uploads/2020/11/13/spiral1.jpg)\n",
    "\n",
    "<pre><strong>Input:</strong> matrix = [[1,2,3],[4,5,6],[7,8,9]]\n",
    "<strong>Output:</strong> [1,2,3,6,9,8,7,4,5]\n",
    "</pre>\n",
    "\n",
    "**Example 2:**\n",
    "\n",
    "![](https://assets.leetcode.com/uploads/2020/11/13/spiral.jpg)\n",
    "\n",
    "<pre><strong>Input:</strong> matrix = [[1,2,3,4],[5,6,7,8],[9,10,11,12]]\n",
    "<strong>Output:</strong> [1,2,3,4,8,12,11,10,9,5,6,7]\n",
    "</pre>\n",
    "\n",
    "**Constraints:**\n",
    "\n",
    "* `m == matrix.length`\n",
    "* `n == matrix[i].length`\n",
    "* `1 <= m, n <= 10`\n",
    "* `-100 <= matrix[i][j] <= 100`\n",
    "\n",
    "## 풀이\n",
    "진행방향(상,하,좌,우)에 따른 좌표를 설정한다.  \n",
    "가장 바깥 부분을 돌고 나면 범위(테두리)를 줄여 또 다른 사이클이 시작된다. (while문 반복)\n"
   ]
  },
  {
   "cell_type": "code",
   "execution_count": 2,
   "metadata": {},
   "outputs": [
    {
     "name": "stdout",
     "output_type": "stream",
     "text": [
      "[\n",
      "  1, 2, 3, 6, 9,\n",
      "  8, 7, 4, 5\n",
      "]\n"
     ]
    }
   ],
   "source": [
    "/**\n",
    " * @param {number[][]} matrix\n",
    " * @return {number[]}\n",
    " */\n",
    "var spiralOrder = function(matrix) {\n",
    "  let res = [];\n",
    "  let startX = 0,\n",
    "      startY = 0,\n",
    "      endX = matrix[0].length - 1,\n",
    "      endY = matrix.length - 1;\n",
    "  while(res.length < matrix.length * matrix[0].length) {\n",
    "    for (let x = startX; x <= endX; x++) { // right\n",
    "      res.push(matrix[startY][x])\n",
    "    }\n",
    "    for (let y = startY + 1; y <= endY; y++) { // bottom\n",
    "      res.push(matrix[y][endX])\n",
    "    }\n",
    "    for (let x = endX - 1; x >= startX; x--) { // left\n",
    "      res.push(matrix[endY][x])\n",
    "    }\n",
    "    for (let y = endY - 1; y >= startY + 1; y--) { // top\n",
    "      res.push(matrix[y][startX])\n",
    "    }\n",
    "    startX++;\n",
    "    startY++;\n",
    "    endX--;\n",
    "    endY--;\n",
    "  }\n",
    "  return res;\n",
    "};\n",
    "console.log(spiralOrder([[1,2,3,4],[5,6,7,8],[9,10,11,12],[13,14,15,16]]))"
   ]
  }
 ],
 "metadata": {
  "kernelspec": {
   "display_name": "JavaScript (Node.js)",
   "language": "javascript",
   "name": "javascript"
  },
  "language_info": {
   "file_extension": ".js",
   "mimetype": "application/javascript",
   "name": "javascript",
   "version": "16.15.1"
  },
  "orig_nbformat": 4
 },
 "nbformat": 4,
 "nbformat_minor": 2
}
