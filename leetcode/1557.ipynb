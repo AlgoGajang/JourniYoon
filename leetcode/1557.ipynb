{
 "cells": [
  {
   "cell_type": "markdown",
   "metadata": {},
   "source": [
    "# [1557. Minimum Number of Vertices to Reach All Nodes](https://leetcode.com/problems/minimum-number-of-vertices-to-reach-all-nodes/)\n",
    "\n",
    "Given a** directed acyclic graph** , with `n` vertices numbered from `0` to `n-1`, and an array `edges` where `edges[i] = [fromi, toi]` represents a directed edge from node `fromi` to node `toi`.\n",
    "\n",
    "Find *the smallest set of vertices from which all nodes in the graph are reachable* . It's guaranteed that a unique solution exists.\n",
    "\n",
    "Notice that you can return the vertices in any order.\n",
    "\n",
    "**Example 1:**\n",
    "\n",
    "![](https://assets.leetcode.com/uploads/2020/07/07/untitled22.png)\n",
    "\n",
    "<pre><strong>Input:</strong> n = 6, edges = [[0,1],[0,2],[2,5],[3,4],[4,2]]\n",
    "<strong>Output:</strong> [0,3]\n",
    "<b>Explanation: </b>It's not possible to reach all the nodes from a single vertex. From 0 we can reach [0,1,2,5]. From 3 we can reach [3,4,2,5]. So we output [0,3].</pre>\n",
    "\n",
    "**Example 2:**\n",
    "\n",
    "![](https://assets.leetcode.com/uploads/2020/07/07/untitled.png)\n",
    "\n",
    "<pre><strong>Input:</strong> n = 5, edges = [[0,1],[2,1],[3,1],[1,4],[2,4]]\n",
    "<strong>Output:</strong> [0,2,3]\n",
    "<strong>Explanation: </strong>Notice that vertices 0, 3 and 2 are not reachable from any other node, so we must include them. Also any of these vertices can reach nodes 1 and 4.\n",
    "</pre>\n",
    "\n",
    "**Constraints:**\n",
    "\n",
    "* `2 <= n <= 10^5`\n",
    "* `1 <= edges.length <= min(10^5, n * (n - 1) / 2)`\n",
    "* `edges[i].length == 2`\n",
    "* `0 <= fromi, toi< n`\n",
    "* All pairs `(fromi, toi)` are distinct.\n",
    "\n",
    "## 풀이\n",
    "간선이 들어오지 않는 노드를 탐색하여 반환한다.  \n",
    "간선이 들어오는 노드들을 answer에 담고 vertex와 비교했더니 시간초과가 발생했다.  \n",
    "answer 배열의 중복 요소들을 제거한 후 간선이 들어오지 않는 노드만 반환한다.  "
   ]
  },
  {
   "cell_type": "code",
   "execution_count": 31,
   "metadata": {},
   "outputs": [
    {
     "name": "stdout",
     "output_type": "stream",
     "text": [
      "[ 0, 3 ]\n"
     ]
    }
   ],
   "source": [
    "var findSmallestSetOfVertices = function(n, edges) {\n",
    "  let vertex = Array.from({length: n},(v,i)=> i);\n",
    "  let answer = [];\n",
    "  for (const node of edges) {\n",
    "    answer.push(node[1]);\n",
    "  }\n",
    "    answer = [...new Set(answer)];\n",
    "  return vertex.filter(a => answer.indexOf(a) === -1)\n",
    "};\n",
    "\n",
    "var n = 6, edges = [[0,1],[0,2],[2,5],[3,4],[4,2]];\n",
    "console.log((findSmallestSetOfVertices(n, edges)));"
   ]
  },
  {
   "cell_type": "markdown",
   "metadata": {},
   "source": [
    "## 최적화\n",
    "간선이 들어오는 개수를 degree로 체크하고 `degree === 0` 인 요소의 인덱스만 반환한다."
   ]
  },
  {
   "cell_type": "code",
   "execution_count": 29,
   "metadata": {},
   "outputs": [
    {
     "name": "stdout",
     "output_type": "stream",
     "text": [
      "[ 0, 3 ]\n"
     ]
    }
   ],
   "source": [
    "var findSmallestSetOfVertices = function(n, edges) {\n",
    "  const degree = Array(n).fill(0);\n",
    "  const output = [];\n",
    "  edges.forEach(([u, v]) => degree[v]++);\n",
    "  degree.forEach((deg, i) => !deg && output.push(i));\n",
    "  return output;\n",
    "};\n",
    "\n",
    "var n = 6, edges = [[0,1],[0,2],[2,5],[3,4],[4,2]];\n",
    "console.log((findSmallestSetOfVertices(n, edges)));"
   ]
  }
 ],
 "metadata": {
  "kernelspec": {
   "display_name": "JavaScript (Node.js)",
   "language": "javascript",
   "name": "javascript"
  },
  "language_info": {
   "file_extension": ".js",
   "mimetype": "application/javascript",
   "name": "javascript",
   "version": "16.15.1"
  },
  "orig_nbformat": 4,
  "vscode": {
   "interpreter": {
    "hash": "7e1998ff7f8aa20ada591c520b972326324e5ea05489af9e422744c7c09f6dad"
   }
  }
 },
 "nbformat": 4,
 "nbformat_minor": 2
}
