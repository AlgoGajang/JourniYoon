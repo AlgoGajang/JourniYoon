{
 "cells": [
  {
   "cell_type": "markdown",
   "metadata": {},
   "source": [
    "# 57. [Insert Interval](https://leetcode.com/problems/insert-interval/)\n",
    "\n",
    "You are given an array of non-overlapping intervals `intervals` where `intervals[i] = [start i, end i ]` represent the start and the end of the `i^th` interval and `intervals` is sorted in ascending order by `start i `. You are also given an interval `newInterval = [start, end]` that represents the start and end of another interval.\n",
    "\n",
    "Insert `newInterval` into `intervals` such that `intervals` is still sorted in ascending order by `start i ` and `intervals` still does not have any overlapping intervals (merge overlapping intervals if necessary).\n",
    "\n",
    "Return `intervals`* after the insertion* .\n",
    "\n",
    "**Example 1:**\n",
    "\n",
    "<pre><strong>Input:</strong> intervals = [[1,3],[6,9]], newInterval = [2,5]\n",
    "<strong>Output:</strong> [[1,5],[6,9]]\n",
    "</pre>\n",
    "\n",
    "**Example 2:**\n",
    "\n",
    "<pre><strong>Input:</strong> intervals = [[1,2],[3,5],[6,7],[8,10],[12,16]], newInterval = [4,8]\n",
    "<strong>Output:</strong> [[1,2],[3,10],[12,16]]\n",
    "<strong>Explanation:</strong> Because the new interval [4,8] overlaps with [3,5],[6,7],[8,10].\n",
    "</pre>\n",
    "\n",
    "**Constraints:**\n",
    "\n",
    "* `0 <= intervals.length <= 10^4`\n",
    "* `intervals[i].length == 2`\n",
    "* `0 <= start i <span> </span><= end i <span> </span><= 10^5`\n",
    "* `intervals` is sorted by `start i ` in **ascending** order.\n",
    "* `newInterval.length == 2`\n",
    "* `0 <= start <= end <= 10^5`\n",
    "\n",
    "## 풀이\n",
    "기존 intervals에서 newInterval의 위치를 파악하고, newInterval를 어떻게 처리해줄지가 문제의 핵심이었다.\n",
    "**조건**\n",
    "1. newInterval의 끝점이 intervals 시작점보다 작은 경우\n",
    "2. newInterval의 시작점이 intervals 끝점보다 큰 경우\n",
    "3. newInterval와 intervals가 겹치는 경우"
   ]
  },
  {
   "cell_type": "code",
   "execution_count": 1,
   "metadata": {},
   "outputs": [],
   "source": [
    "const insert = function(intervals, newInterval) {\n",
    "    let result = [];\n",
    "\n",
    "    for (let i = 0; i < intervals.length; i++) {\n",
    "      if (newInterval[1] < intervals[i][0]) {\n",
    "        result.push(newInterval);\n",
    "        return result.concat(intervals.slice(i))\n",
    "      } else if (newInterval[0] > intervals[i][1]) {\n",
    "        result.push(intervals[i]);\n",
    "      } else {\n",
    "        newInterval = [Math.min(newInterval[0], intervals[i][0]), Math.max(newInterval[1], intervals[i][1])];\n",
    "      }\n",
    "    }\n",
    "    result.push(newInterval);\n",
    "    return result;\n",
    "};"
   ]
  },
  {
   "cell_type": "code",
   "execution_count": 2,
   "metadata": {},
   "outputs": [
    {
     "name": "stdout",
     "output_type": "stream",
     "text": [
      "[ [ 1, 2 ], [ 3, 10 ], [ 12, 16 ] ]\n"
     ]
    }
   ],
   "source": [
    "const intervals = [[1,2],[3,5],[6,7],[8,10],[12,16]];\n",
    "const newInterval = [4, 8];\n",
    "const answer = insert(intervals, newInterval);\n",
    "console.log(answer);"
   ]
  }
 ],
 "metadata": {
  "kernelspec": {
   "display_name": "JavaScript (Node.js)",
   "language": "javascript",
   "name": "javascript"
  },
  "language_info": {
   "file_extension": ".js",
   "mimetype": "application/javascript",
   "name": "javascript",
   "version": "16.15.1"
  },
  "orig_nbformat": 4
 },
 "nbformat": 4,
 "nbformat_minor": 2
}
