{
 "cells": [
  {
   "cell_type": "markdown",
   "metadata": {},
   "source": [
    "# [3. Longest Substring Without Repeating Characters](https://leetcode.com/problems/longest-substring-without-repeating-characters/)\n",
    "\n",
    "Given a string `s`, find the length of the **longest substring** without repeating characters.\n",
    "\n",
    "**Example 1:**\n",
    "\n",
    "<pre><strong>Input:</strong> s = \"abcabcbb\"\n",
    "<strong>Output:</strong> 3\n",
    "<strong>Explanation:</strong> The answer is \"abc\", with the length of 3.\n",
    "</pre>\n",
    "\n",
    "**Example 2:**\n",
    "\n",
    "<pre><strong>Input:</strong> s = \"bbbbb\"\n",
    "<strong>Output:</strong> 1\n",
    "<strong>Explanation:</strong> The answer is \"b\", with the length of 1.\n",
    "</pre>\n",
    "\n",
    "**Example 3:**\n",
    "\n",
    "<pre><strong>Input:</strong> s = \"pwwkew\"\n",
    "<strong>Output:</strong> 3\n",
    "<strong>Explanation:</strong> The answer is \"wke\", with the length of 3.\n",
    "Notice that the answer must be a substring, \"pwke\" is a subsequence and not a substring.\n",
    "</pre>\n",
    "\n",
    "**Constraints:**\n",
    "\n",
    "* `0 <= s.length <= 5 * 10^4`\n",
    "* `s` consists of English letters, digits, symbols and spaces.\n",
    "\n",
    "## 풀이\n",
    "- Hash Table\n",
    "- Sliding Window\n",
    "substring은 중복 문자를 허용하지 않으므로, 긴 문자열들 속 중복제거를 우선적으로 생각했다.  \n",
    "따라서, set을 사용해 주어진 문자열을 해시 테이블로 변환하고, 해시 테이블의 길이를 통해 `최대 길이`가 될 수 있는 값을 유추해볼 수 있다.  \n",
    "**단계**"
   ]
  },
  {
   "cell_type": "code",
   "execution_count": 26,
   "metadata": {
    "vscode": {
     "languageId": "javascript"
    }
   },
   "outputs": [
    {
     "name": "stdout",
     "output_type": "stream",
     "text": [
      "6\n"
     ]
    }
   ],
   "source": [
    "var lengthOfLongestSubstring = function(s) {\n",
    "  const charSet = new Set();\n",
    "  let l = 0;\n",
    "  let answer = 0;\n",
    "\n",
    "  for (let r = 0; r < s.length; r++) {\n",
    "    while (charSet.has(s[r])) {\n",
    "      charSet.delete(s[l]);\n",
    "      l += 1;\n",
    "    }\n",
    "    charSet.add(s[r]);\n",
    "    answer = Math.max(answer, r - l + 1);\n",
    "  }\n",
    "  return answer;\n",
    "};\n",
    "console.log(lengthOfLongestSubstring(\"abcdefabddd\"));"
   ]
  },
  {
   "cell_type": "code",
   "execution_count": null,
   "metadata": {},
   "outputs": [],
   "source": [
    "class Solution:\n",
    "  def lengthOfLongestSubstring(self, s: str) -> int:\n",
    "    char = set()\n",
    "    l, res = 0, 0\n",
    "    for r in range(len(s)):\n",
    "      if s[r] in char:\n",
    "        char.remove(s[l])\n",
    "        l += 1\n",
    "      else:\n",
    "        char.add(s[r])\n",
    "        res = max(res, r - l + 1)\n",
    "    return res "
   ]
  }
 ],
 "metadata": {
  "kernelspec": {
   "display_name": "Python 3.8.10 64-bit",
   "language": "python",
   "name": "python3"
  },
  "language_info": {
   "file_extension": ".js",
   "mimetype": "application/javascript",
   "name": "python",
   "version": "3.8.10"
  },
  "orig_nbformat": 4,
  "vscode": {
   "interpreter": {
    "hash": "31f2aee4e71d21fbe5cf8b01ff0e069b9275f58929596ceb00d14d90e3e16cd6"
   }
  }
 },
 "nbformat": 4,
 "nbformat_minor": 2
}
