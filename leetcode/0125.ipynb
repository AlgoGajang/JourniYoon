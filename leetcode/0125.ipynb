{
 "cells": [
  {
   "cell_type": "markdown",
   "metadata": {},
   "source": [
    "# [125. Valid Palindrome](https://leetcode.com/problems/valid-palindrome/)\n",
    "\n",
    "A phrase is a **palindrome** if, after converting all uppercase letters into lowercase letters and removing all non-alphanumeric characters, it reads the same forward and backward. Alphanumeric characters include letters and numbers.\n",
    "\n",
    "Given a string `s`, return `true`* if it is a **palindrome** , or * `false`* otherwise* .\n",
    "\n",
    "**Example 1:**\n",
    "\n",
    "<pre><strong>Input:</strong> s = \"A man, a plan, a canal: Panama\"\n",
    "<strong>Output:</strong> true\n",
    "<strong>Explanation:</strong> \"amanaplanacanalpanama\" is a palindrome.\n",
    "</pre>\n",
    "\n",
    "**Example 2:**\n",
    "\n",
    "<pre><strong>Input:</strong> s = \"race a car\"\n",
    "<strong>Output:</strong> false\n",
    "<strong>Explanation:</strong> \"raceacar\" is not a palindrome.\n",
    "</pre>\n",
    "\n",
    "**Example 3:**\n",
    "\n",
    "<pre><strong>Input:</strong> s = \" \"\n",
    "<strong>Output:</strong> true\n",
    "<strong>Explanation:</strong> s is an empty string \"\" after removing non-alphanumeric characters.\n",
    "Since an empty string reads the same forward and backward, it is a palindrome.\n",
    "</pre>\n",
    "\n",
    "**Constraints:**\n",
    "\n",
    "* `1 <= s.length <= 2 * 10<sup>5</sup>`\n",
    "* `s` consists only of printable ASCII characters.\n",
    "\n",
    "## 풀이\n",
    "1. 모든 문자를 소문자로 변환한다.\n",
    "2. 알파벳 이외의 기호를 제거한다.\n",
    "3. 가운데를 기준으로 왼쪽 끝과 오른쪽 끝에서 포인터를 옮기며 같은 문자열인지 비교한다.\n"
   ]
  },
  {
   "cell_type": "code",
   "execution_count": null,
   "metadata": {},
   "outputs": [],
   "source": [
    "import re  \n",
    "\n",
    "class Solution:\n",
    "    def isPalindrome(self, s: str) -> bool:\n",
    "        s = s.lower()\n",
    "        s = re.sub(\"[^a-z0-9]\", \"\", s)\n",
    "        l = 0\n",
    "        for r in range(len(s)-1,len(s)//2-1,-1):\n",
    "          if s[l] == s[r]:\n",
    "            l += 1\n",
    "          else:\n",
    "            return False\n",
    "        return True"
   ]
  },
  {
   "cell_type": "code",
   "execution_count": null,
   "metadata": {},
   "outputs": [],
   "source": [
    "# index 참고\n",
    "class Solution:\n",
    "  def isPalindrome(self, s: str) -> bool:\n",
    "    normalized_s = ''.join(c for c in s if c.isalnum()).lower()\n",
    "    i, j = 0, len(normalized_s)-1\n",
    "    \n",
    "    while i < j:\n",
    "      if normalized_s[i] == normalized_s[j]:\n",
    "        i += 1\n",
    "        j -= 1\n",
    "      else:\n",
    "        return False\n",
    "  \n",
    "    return True"
   ]
  },
  {
   "cell_type": "markdown",
   "metadata": {},
   "source": [
    "## 최적화\n",
    "slicing으로 문자열을 완전히 뒤집어 비교하는 방법  \n",
    "반복문을 직접 도는 것보다 훨씬 빠르다."
   ]
  },
  {
   "cell_type": "code",
   "execution_count": null,
   "metadata": {},
   "outputs": [],
   "source": [
    "import re\n",
    "\n",
    "class Solution:\n",
    "  def isPalindrome(self, s: str) -> bool:\n",
    "    strs = re.findall(r'[a-zA-Z0-9]+', s)\n",
    "    plainStr = \"\".join(strs)\n",
    "    return plainStr.lower() == plainStr[::-1].lower()"
   ]
  }
 ],
 "metadata": {
  "kernelspec": {
   "display_name": "Python 3.8.10 64-bit",
   "language": "python",
   "name": "python3"
  },
  "language_info": {
   "name": "python",
   "version": "3.8.10"
  },
  "orig_nbformat": 4,
  "vscode": {
   "interpreter": {
    "hash": "31f2aee4e71d21fbe5cf8b01ff0e069b9275f58929596ceb00d14d90e3e16cd6"
   }
  }
 },
 "nbformat": 4,
 "nbformat_minor": 2
}
