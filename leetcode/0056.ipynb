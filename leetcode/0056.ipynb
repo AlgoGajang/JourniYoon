{
 "cells": [
  {
   "cell_type": "markdown",
   "metadata": {},
   "source": [
    "# [56. Merge Intervals](https://leetcode.com/problems/merge-intervals/)\n",
    "\n",
    "Given an array of `intervals` where `intervals[i] = [starti, endi]`, merge all overlapping intervals, and return *an array of the non-overlapping intervals that cover all the intervals in the input* .\n",
    "\n",
    "**Example 1:**\n",
    "\n",
    "<pre><strong>Input:</strong> intervals = [[1,3],[2,6],[8,10],[15,18]]\n",
    "<strong>Output:</strong> [[1,6],[8,10],[15,18]]\n",
    "<strong>Explanation:</strong> Since intervals [1,3] and [2,6] overlap, merge them into [1,6].\n",
    "</pre>\n",
    "\n",
    "**Example 2:**\n",
    "\n",
    "<pre><strong>Input:</strong> intervals = [[1,4],[4,5]]\n",
    "<strong>Output:</strong> [[1,5]]\n",
    "<strong>Explanation:</strong> Intervals [1,4] and [4,5] are considered overlapping.\n",
    "</pre>\n",
    "\n",
    "**Constraints:**\n",
    "\n",
    "* `1 <= intervals.length <= 10^4`\n",
    "* `intervals[i].length == 2`\n",
    "* `0 <= starti<span> </span><= endi<span> </span><= 10^4`\n",
    "\n",
    "## 풀이\n",
    "[start1, end1] vs. [start2, end2]  \n",
    "\n",
    "앞 종료점 보다 뒤 시작점이 작거나 같을 때 (start 2 < end1) 오버랩핑이 발생한다."
   ]
  },
  {
   "cell_type": "code",
   "execution_count": null,
   "metadata": {},
   "outputs": [],
   "source": [
    "var merge = function(intervals) {\n",
    "  intervals.sort(([start1, end1],[start2,end2])=> start1 !== start2 ? start1 - start2 : end1 - end2);\n",
    "\n",
    "  return mergeInerval(intervals);\n",
    "};\n",
    "\n",
    "const mergeInerval = (intervals, merged = []) => {\n",
    "  let prev = intervals.shift();\n",
    "\n",
    "  for (const curr of intervals) {\n",
    "    const [ prevStart, prevEnd ] = prev;\n",
    "    const [ currStart, currEnd ] = curr;\n",
    "\n",
    "    const hasOverlap = currStart <= prevEnd;\n",
    "    if(hasOverlap) {\n",
    "      prev[1] = Math.max(prev[1], curr[1]);\n",
    "      continue;\n",
    "    }\n",
    "\n",
    "    merged.push(prev);\n",
    "    prev = curr;\n",
    "  }\n",
    "  return [ ...merged, prev ];\n",
    "}"
   ]
  }
 ],
 "metadata": {
  "kernelspec": {
   "display_name": "JavaScript (Node.js)",
   "language": "javascript",
   "name": "javascript"
  },
  "language_info": {
   "name": "javascript"
  },
  "orig_nbformat": 4
 },
 "nbformat": 4,
 "nbformat_minor": 2
}
