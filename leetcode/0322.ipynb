{
 "cells": [
  {
   "cell_type": "markdown",
   "metadata": {},
   "source": [
    "# [322. Coin Change](https://leetcode.com/problems/coin-change/)\n",
    "\n",
    "You are given an integer array `coins` representing coins of different denominations and an integer `amount` representing a total amount of money.\n",
    "\n",
    "Return *the fewest number of coins that you need to make up that amount* . If that amount of money cannot be made up by any combination of the coins, return `-1`.\n",
    "\n",
    "You may assume that you have an infinite number of each kind of coin.\n",
    "\n",
    "**Example 1:**\n",
    "\n",
    "<pre><strong>Input:</strong> coins = [1,2,5], amount = 11\n",
    "<strong>Output:</strong> 3\n",
    "<strong>Explanation:</strong> 11 = 5 + 5 + 1\n",
    "</pre>\n",
    "\n",
    "**Example 2:**\n",
    "\n",
    "<pre><strong>Input:</strong> coins = [2], amount = 3\n",
    "<strong>Output:</strong> -1\n",
    "</pre>\n",
    "\n",
    "**Example 3:**\n",
    "\n",
    "<pre><strong>Input:</strong> coins = [1], amount = 0\n",
    "<strong>Output:</strong> 0\n",
    "</pre>\n",
    "\n",
    "**Constraints:**\n",
    "\n",
    "* `1 <= coins.length <= 12`\n",
    "* `1 <= coins[i] <= 2^31 - 1`\n",
    "* `0 <= amount <= 10^4`\n",
    "\n",
    "## 풀이\n",
    "- Greedy\n",
    "\n",
    "1. coins를 내림차순으로 정렬한다.\n",
    "2. coins의 첫 번째 요소로 amount를 나누어 몫을 result에 더한다.\n",
    "3. 2의 계산 결과 나온 나머지를 계속 coins의 다음 요소로 나누어준다.\n",
    "4. 3에서 0이 되면 계산을 멈추고 result를 반환한다.\n",
    "\n",
    "예외 사항  \n",
    "1. amount가 0이면 0을 반환한다.\n",
    "2. 나누어 떨어지지 않는 경우 -1을 반환한다.\n",
    "\n",
    "거스름돈 주기 문제로 생각했으나 오류!  \n",
    "\n",
    "**Example**\n",
    "[1, 3, 4, 5]  \n",
    "거스름돈 문제로 생각하면 7 = 5 + 1 + 1 / 3개  \n",
    "주어진 문제로 생각해보면 7 = 3 + 4 / 2개  \n",
    "Greedy가 아닌 Dynamic Programming으로 생각해보아야 한다."
   ]
  },
  {
   "cell_type": "code",
   "execution_count": 2,
   "metadata": {},
   "outputs": [
    {
     "name": "stdout",
     "output_type": "stream",
     "text": [
      "3\n",
      "-1\n"
     ]
    }
   ],
   "source": [
    "var coinChange = function(coins, amount) {\n",
    "  if(!amount) return 0;\n",
    "  coins.sort((a, b) => b - a);\n",
    "  let result = 0;\n",
    "  for(let i = 0; i < coins.length ; i++) {\n",
    "    if(coins[i] <= amount) {\n",
    "      result += Math.floor(amount / coins[i]);\n",
    "      amount = amount % coins[i];\n",
    "    };\n",
    "    if (!amount) return result;\n",
    "  }\n",
    "  if (amount > 0) return -1;\n",
    "};\n",
    "\n",
    "console.log(coinChange([1,2,5],11)); // 3\n",
    "console.log((coinChange([186,419,83,408],6249))); // 20"
   ]
  },
  {
   "cell_type": "markdown",
   "metadata": {},
   "source": [
    "## 최적화\n",
    "- Dynamic Programming"
   ]
  },
  {
   "cell_type": "code",
   "execution_count": 4,
   "metadata": {},
   "outputs": [
    {
     "name": "stdout",
     "output_type": "stream",
     "text": [
      "2\n"
     ]
    }
   ],
   "source": [
    "var coinChange = function(coins, amount) {\n",
    "  let dp = Array(amount+1).fill(amount+1);\n",
    "  dp[0] = 0;\n",
    "\n",
    "  for (let a = 1; a < amount + 1; a++) {\n",
    "    for (const coin of coins) {\n",
    "      if(a - coin >= 0) {\n",
    "        dp[a] = Math.min(dp[a], 1 + dp[a-coin]);\n",
    "      }\n",
    "    }\n",
    "  }\n",
    "  return (dp[amount] === amount + 1) ? -1: dp[amount];\n",
    "};\n",
    "console.log(coinChange([1,3,4,5], 7)); // 2"
   ]
  }
 ],
 "metadata": {
  "kernelspec": {
   "display_name": "JavaScript (Node.js)",
   "language": "javascript",
   "name": "javascript"
  },
  "language_info": {
   "file_extension": ".js",
   "mimetype": "application/javascript",
   "name": "javascript",
   "version": "16.15.1"
  },
  "orig_nbformat": 4,
  "vscode": {
   "interpreter": {
    "hash": "7e1998ff7f8aa20ada591c520b972326324e5ea05489af9e422744c7c09f6dad"
   }
  }
 },
 "nbformat": 4,
 "nbformat_minor": 2
}
