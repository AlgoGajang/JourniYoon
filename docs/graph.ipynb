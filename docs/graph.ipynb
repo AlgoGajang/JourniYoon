{
 "cells": [
  {
   "cell_type": "markdown",
   "metadata": {},
   "source": [
    "# Graph\n",
    "## BFS"
   ]
  },
  {
   "cell_type": "code",
   "execution_count": 15,
   "metadata": {},
   "outputs": [
    {
     "ename": "SyntaxError",
     "evalue": "Identifier 'graph' has already been declared",
     "output_type": "error",
     "traceback": [
      "evalmachine.<anonymous>:1",
      "const graph = {",
      "^",
      "",
      "SyntaxError: Identifier 'graph' has already been declared",
      "    at Script.runInThisContext (node:vm:129:12)",
      "    at Object.runInThisContext (node:vm:305:38)",
      "    at run ([eval]:1020:15)",
      "    at onRunRequest ([eval]:864:18)",
      "    at onMessage ([eval]:828:13)",
      "    at process.emit (node:events:527:28)",
      "    at emit (node:internal/child_process:938:14)",
      "    at processTicksAndRejections (node:internal/process/task_queues:84:21)"
     ]
    }
   ],
   "source": [
    "const graph = {\n",
    "  A: [\"B\", \"C\"],\n",
    "  B: [\"A\", \"D\"],\n",
    "  C: [\"A\", \"G\", \"H\", \"I\"],\n",
    "  D: [\"B\", \"E\", \"F\"],\n",
    "  E: [\"D\"],\n",
    "  F: [\"D\"],\n",
    "  G: [\"C\"],\n",
    "  H: [\"C\"],\n",
    "  I: [\"C\", \"J\"],\n",
    "  J: [\"I\"]\n",
    "};\n",
    "\n",
    "const bfs = (graph, startNode) => {\n",
    "  let visited = []; // 탐색을 마친 노드들\n",
    "  let needVisit = []; // 탐색해야할 노드들\n",
    "\n",
    "  needVisit.push(startNode); // 노드 탐색 시작\n",
    "\n",
    "  while (needVisit.length !== 0) { // 탐색해야할 노드가 남아있다면\n",
    "    const node = needVisit.shift(); // queue이기 때문에 선입선출, shift()를 사용한다.\n",
    "    if (!visited.includes(node)) { // 해당 노드가 탐색된 적 없다면\n",
    "      visited.push(node); \n",
    "      needVisit = [...needVisit, ...graph[node]];\n",
    "    }\n",
    "  }\n",
    "  return visited;\n",
    "};\n",
    "\n",
    "console.log(bfs(graph, \"A\"));\n",
    "// [\"A\", \"B\", \"C\", \"D\", \"G\", \"H\", \"I\", \"E\", \"F\", \"J\"]"
   ]
  },
  {
   "cell_type": "markdown",
   "metadata": {},
   "source": [
    "## DFS\n",
    "### 스택을 이용한 구현\n",
    "스택을 이용한 DFS 구현은 각각 하나의 스택과 큐를 사용한다.<br>\n",
    "`큐`는 노드의 방문처리를 위해 사용되고, `스택`은 방문처리한 노드의 자식 노드를 저장해 다음 단계에서 방문해야 할 노드 저장을 위해 사용된다."
   ]
  },
  {
   "cell_type": "code",
   "execution_count": 4,
   "metadata": {},
   "outputs": [
    {
     "name": "stdout",
     "output_type": "stream",
     "text": [
      "[\n",
      "  'A', 'C', 'I', 'J',\n",
      "  'H', 'G', 'B', 'D',\n",
      "  'F', 'E'\n",
      "]\n"
     ]
    }
   ],
   "source": [
    "const graph = {\n",
    "  A: [\"B\", \"C\"],\n",
    "  B: [\"A\", \"D\"],\n",
    "  C: [\"A\", \"G\", \"H\", \"I\"],\n",
    "  D: [\"B\", \"E\", \"F\"],\n",
    "  E: [\"D\"],\n",
    "  F: [\"D\"],\n",
    "  G: [\"C\"],\n",
    "  H: [\"C\"],\n",
    "  I: [\"C\", \"J\"],\n",
    "  J: [\"I\"],\n",
    "};\n",
    "\n",
    "const dfs_stack = (graph, start) => { // params(graph, 시작노드)\n",
    "  let visited = []; // 큐\n",
    "  let need_visit = []; // 스택\n",
    "  need_visit.push(start)\n",
    "  while(need_visit.length) {\n",
    "    const node = need_visit.pop();\n",
    "    if (!visited.includes(node)) {\n",
    "      visited.push(node);\n",
    "      need_visit = [...need_visit,...graph[node] ];\n",
    "    }\n",
    "  }\n",
    "  return visited;\n",
    "}\n",
    "\n",
    "console.log(dfs_stack(graph,\"A\")) // [\"A\", \"C\", \"I\", \"J\", \"H\", \"G\", \"B\", \"D\", \"F\", \"E\"]"
   ]
  },
  {
   "cell_type": "markdown",
   "metadata": {},
   "source": [
    "### 재귀를 이용한 구현\n",
    "1. 현재 노드를 해시 테이블에 추가해 방문했다고 표시한다.\n",
    "2. 현재 노드의 인접 노드를 순회한다.\n",
    "3. 이미 방문했던 인접 노드는 무시한다.\n",
    "4. 인접 노드에 대해 메서드를 재귀적으로 호출한다."
   ]
  },
  {
   "cell_type": "code",
   "execution_count": 4,
   "metadata": {},
   "outputs": [
    {
     "ename": "RangeError",
     "evalue": "Maximum call stack size exceeded",
     "output_type": "error",
     "traceback": [
      "evalmachine.<anonymous>:19",
      "  visited.push(start);",
      "          ^",
      "",
      "RangeError: Maximum call stack size exceeded",
      "    at Array.push (<anonymous>)",
      "    at dfs_recursion (evalmachine.<anonymous>:19:11)",
      "    at dfs_recursion (evalmachine.<anonymous>:22:15)",
      "    at dfs_recursion (evalmachine.<anonymous>:22:15)",
      "    at dfs_recursion (evalmachine.<anonymous>:22:15)",
      "    at dfs_recursion (evalmachine.<anonymous>:22:15)",
      "    at dfs_recursion (evalmachine.<anonymous>:22:15)",
      "    at dfs_recursion (evalmachine.<anonymous>:22:15)",
      "    at dfs_recursion (evalmachine.<anonymous>:22:15)",
      "    at dfs_recursion (evalmachine.<anonymous>:22:15)"
     ]
    }
   ],
   "source": [
    "const graph = {\n",
    "  A: [\"B\", \"C\"],\n",
    "  B: [\"A\", \"D\"],\n",
    "  C: [\"A\", \"G\", \"H\", \"I\"],\n",
    "  D: [\"B\", \"E\", \"F\"],\n",
    "  E: [\"D\"],\n",
    "  F: [\"D\"],\n",
    "  G: [\"C\"],\n",
    "  H: [\"C\"],\n",
    "  I: [\"C\", \"J\"],\n",
    "  J: [\"I\"],\n",
    "};\n",
    "const dfs_recursion = (graph, start) => { // params(graph, 시작노드)\n",
    "\n",
    "}\n",
    "console.log(dfs_recursion(graph, \"A\"))"
   ]
  },
  {
   "cell_type": "code",
   "execution_count": 1,
   "metadata": {},
   "outputs": [
    {
     "name": "stdout",
     "output_type": "stream",
     "text": [
      "dfs_recursive path: [1, 2, 5, 7, 3, 8, 6, 4, 9]\n"
     ]
    }
   ],
   "source": [
    "graph = {1: [2, 3, 4], 2: [5, 6], 3: [8],\n",
    "         4: [8, 9],    5: [7],    6: [],\n",
    "         7: [3],       8: [],     9: []}\n",
    " \n",
    "def dfs_recursive(v, path=[]):\n",
    "    path.append(v)\n",
    "    for x in graph[v]:\n",
    "        if x not in path:\n",
    "            path = dfs_recursive(x, path)\n",
    "    return path\n",
    " \n",
    "print(f'dfs_recursive path: {dfs_recursive(1)}')"
   ]
  },
  {
   "cell_type": "markdown",
   "metadata": {},
   "source": [
    "#### 참고\n",
    "- https://velog.io/@longroadhome/%EC%9E%90%EB%A3%8C%EA%B5%AC%EC%A1%B0-Stack%EC%9D%84-%EC%9D%B4%EC%9A%A9%ED%95%9C-Iterative-DFS-%EA%B5%AC%ED%98%84#iterative-dfs-%EB%B0%A9%EB%AC%B8-%EA%B5%AC%ED%98%84\n",
    "- https://8iggy.tistory.com/104"
   ]
  }
 ],
 "metadata": {
  "kernelspec": {
   "display_name": "JavaScript (Node.js)",
   "language": "javascript",
   "name": "javascript"
  },
  "language_info": {
   "file_extension": ".js",
   "mimetype": "application/javascript",
   "name": "javascript",
   "version": "16.15.1"
  },
  "orig_nbformat": 4,
  "vscode": {
   "interpreter": {
    "hash": "31f2aee4e71d21fbe5cf8b01ff0e069b9275f58929596ceb00d14d90e3e16cd6"
   }
  }
 },
 "nbformat": 4,
 "nbformat_minor": 2
}
