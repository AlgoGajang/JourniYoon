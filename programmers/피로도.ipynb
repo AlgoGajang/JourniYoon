{
 "cells": [
  {
   "cell_type": "markdown",
   "metadata": {},
   "source": [
    "# [피로도](https://school.programmers.co.kr/learn/courses/30/lessons/87946#)\n",
    "\n",
    "### 입출력 예\n",
    "|k|\tdungeons\t|result|\n",
    "|-|------------|-----|\n",
    "|80|\t[[80,20],[50,40],[30,10]]\t|3|\n",
    "\n",
    "### 입출력 예 설명\n",
    "현재 피로도는 80입니다.<br>\n",
    "\n",
    "만약, 첫 번째 → 두 번째 → 세 번째 던전 순서로 탐험한다면<br>\n",
    "\n",
    "- 현재 피로도는 80이며, 첫 번째 던전을 돌기위해 필요한 \"최소 필요 피로도\" 또한 80이므로, 첫 번째 던전을 탐험할 수 있습니다. 첫 번째 던전의 \"소모 피로도\"는 20이므로, 던전을 탐험한 후 남은 피로도는 60입니다.\n",
    "- 남은 피로도는 60이며, 두 번째 던전을 돌기위해 필요한 \"최소 필요 피로도\"는 50이므로, 두 번째 던전을 탐험할 수 있습니다. 두 번째 던전의 \"소모 피로도\"는 40이므로, 던전을 탐험한 후 남은 피로도는 20입니다.\n",
    "- 남은 피로도는 20이며, 세 번째 던전을 돌기위해 필요한 \"최소 필요 피로도\"는 30입니다. 따라서 세 번째 던전은 탐험할 수 없습니다.\n",
    "\n",
    "만약, 첫 번째 → 세 번째 → 두 번째 던전 순서로 탐험한다면\n",
    "\n",
    "- 현재 피로도는 80이며, 첫 번째 던전을 돌기위해 필요한 \"최소 필요 피로도\" 또한 80이므로, 첫 번째 던전을 탐험할 수 있습니다. 첫 번째 던전의 \"소모 피로도\"는 20이므로, 던전을 탐험한 후 남은 피로도는 60입니다.\n",
    "- 남은 피로도는 60이며, 세 번째 던전을 돌기위해 필요한 \"최소 필요 피로도\"는 30이므로, 세 번째 던전을 탐험할 수 있습니다. 세 번째 던전의 \"소모 피로도\"는 10이므로, 던전을 탐험한 후 남은 피로도는 50입니다.\n",
    "- 남은 피로도는 50이며, 두 번째 던전을 돌기위해 필요한 \"최소 필요 피로도\"는 50이므로, 두 번째 던전을 탐험할 수 있습니다. 두 번째 던전의 \"소모 피로도\"는 40이므로, 던전을 탐험한 후 남은 피로도는 10입니다.\n",
    "따라서 이 경우 세 던전을 모두 탐험할 수 있으며, 유저가 탐험할 수 있는 최대 던전 수는 3입니다.\n",
    "\n",
    "## 풀이\n",
    "입출력예에서 얻은 힌트는\n",
    "1. `최소 필요 피로도`가 높은 순으로 방문할 경우, 소모 피로도가 높은 경우 발생\n",
    "2. `소모 피로도`가 높은 순으로 방문할 경우, 최소 필요 피로도 조건에 미충족\n",
    "두 가지 모두 문제에서 제시하는 조건에 충족이 되지 않는다. 따라서, 모든 경우를 탐색해야 한다."
   ]
  },
  {
   "cell_type": "code",
   "execution_count": null,
   "metadata": {},
   "outputs": [],
   "source": [
    "function solution(k, dungeons) {\n",
    "  var answer = [];\n",
    "  let visited = Array.from({length:dungeons.length},(v,i)=>i=false);\n",
    "  console.log()\n",
    "  const dfs = (graph, start) => {\n",
    "    \n",
    "  }\n",
    "  return answer;\n",
    "}"
   ]
  },
  {
   "cell_type": "code",
   "execution_count": null,
   "metadata": {},
   "outputs": [],
   "source": [
    "// refer\n",
    "function solution(k, dungeons) {\n",
    "  let answer = [];\n",
    "  let visited = Array(dungeons.length).fill(false);\n",
    "\n",
    "  function dfs(count, k) {\n",
    "    answer.push(count);\n",
    "\n",
    "    for (let i = 0; i < dungeons.length; i++) {\n",
    "      let current = dungeons[i];\n",
    "      if (k >= current[0] && !visited[i]) {\n",
    "        visited[i] = 1;\n",
    "        dfs(count + 1, k - current[1]);\n",
    "        visited[i] = 0;\n",
    "      }\n",
    "    }\n",
    "  }\n",
    "\n",
    "  dfs(0, k);\n",
    "\n",
    "  return Math.max(...answer);\n",
    "}"
   ]
  }
 ],
 "metadata": {
  "kernelspec": {
   "display_name": "JavaScript (Node.js)",
   "language": "javascript",
   "name": "javascript"
  },
  "language_info": {
   "file_extension": ".js",
   "mimetype": "application/javascript",
   "name": "javascript",
   "version": "16.15.1"
  },
  "orig_nbformat": 4
 },
 "nbformat": 4,
 "nbformat_minor": 2
}
