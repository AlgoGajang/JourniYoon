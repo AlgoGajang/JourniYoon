{
 "cells": [
  {
   "cell_type": "markdown",
   "metadata": {},
   "source": [
    "# [여러 기준으로 정렬하기](https://school.programmers.co.kr/learn/courses/30/lessons/59404)\n",
    "\n",
    "## 문제 설명\n",
    "\n",
    "`ANIMAL_INS` 테이블은 동물 보호소에 들어온 동물의 정보를 담은 테이블입니다. `ANIMAL_INS` 테이블 구조는 다음과 같으며, `ANIMAL_ID`, `ANIMAL_TYPE`, `DATETIME`, `INTAKE_CONDITION`, `NAME`, `SEX_UPON_INTAKE`는 각각 동물의 아이디, 생물 종, 보호 시작일, 보호 시작 시 상태, 이름, 성별 및 중성화 여부를 나타냅니다.\n",
    "\n",
    "\n",
    "| NAME             | TYPE       | NULLABLE |\n",
    "| ------------------ | ------------ | ---------- |\n",
    "| ANIMAL_ID        | VARCHAR(N) | FALSE    |\n",
    "| ANIMAL_TYPE      | VARCHAR(N) | FALSE    |\n",
    "| DATETIME         | DATETIME   | FALSE    |\n",
    "| INTAKE_CONDITION | VARCHAR(N) | FALSE    |\n",
    "| NAME             | VARCHAR(N) | TRUE     |\n",
    "| SEX_UPON_INTAKE  | VARCHAR(N) | FALSE    |\n",
    "\n",
    "동물 보호소에 들어온 모든 동물의 아이디와 이름, 보호 시작일을 이름 순으로 조회하는 SQL문을 작성해주세요. 단, 이름이 같은 동물 중에서는 보호를 나중에 시작한 동물을 먼저 보여줘야 합니다.\n",
    "\n",
    "## 예시\n",
    "\n",
    "예를 들어, `ANIMAL_INS` 테이블이 다음과 같다면\n",
    "\n",
    "\n",
    "| ANIMAL_ID | ANIMAL_TYPE | DATETIME            | INTAKE_CONDITION | NAME  | SEX_UPON_INTAKE |\n",
    "| ----------- | ------------- | --------------------- | ------------------ | ------- | ----------------- |\n",
    "| A349996   | Cat         | 2018-01-22 14:32:00 | Normal           | Sugar | Neutered Male   |\n",
    "| A350276   | Cat         | 2017-08-13 13:50:00 | Normal           | Jewel | Spayed Female   |\n",
    "| A396810   | Dog         | 2016-08-22 16:13:00 | Injured          | Raven | Spayed Female   |\n",
    "| A410668   | Cat         | 2015-11-19 13:41:00 | Normal           | Raven | Spayed Female   |\n",
    "\n",
    "1. 이름을 사전 순으로 정렬하면 다음과 같으며, 'Jewel', 'Raven', 'Sugar'\n",
    "2. 'Raven'이라는 이름을 가진 개와 고양이가 있으므로, 이 중에서는 보호를 나중에 시작한 개를 먼저 조회합니다.\n",
    "\n",
    "따라서 SQL문을 실행하면 다음과 같이 나와야 합니다.\n",
    "\n",
    "\n",
    "| ANIMAL_ID | NAME  | DATETIME            |\n",
    "| ----------- | ------- | --------------------- |\n",
    "| A350276   | Jewel | 2017-08-13 13:50:00 |\n",
    "| A396810   | Raven | 2016-08-22 16:13:00 |\n",
    "| A410668   | Raven | 2015-11-19 13:41:00 |\n",
    "| A349996   | Sugar | 2018-01-22 14:32:00 |\n",
    "\n",
    "## 풀이"
   ]
  },
  {
   "cell_type": "code",
   "execution_count": null,
   "metadata": {
    "vscode": {
     "languageId": "sql"
    }
   },
   "outputs": [],
   "source": [
    "SELECT ANIMAL_ID, NAME,\tDATETIME\n",
    "FROM ANIMAL_INS\n",
    "ORDER BY NAME, DATETIME DESC;"
   ]
  }
 ],
 "metadata": {
  "kernelspec": {
   "display_name": "Python 3.8.10 64-bit",
   "language": "python",
   "name": "python3"
  },
  "language_info": {
   "name": "python",
   "version": "3.8.10"
  },
  "orig_nbformat": 4,
  "vscode": {
   "interpreter": {
    "hash": "31f2aee4e71d21fbe5cf8b01ff0e069b9275f58929596ceb00d14d90e3e16cd6"
   }
  }
 },
 "nbformat": 4,
 "nbformat_minor": 2
}
