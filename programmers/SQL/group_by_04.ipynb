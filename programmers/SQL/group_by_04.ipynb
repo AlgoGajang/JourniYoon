{
 "cells": [
  {
   "cell_type": "markdown",
   "metadata": {},
   "source": [
    "# [입양 시각 구하기(2)](https://school.programmers.co.kr/learn/courses/30/lessons/59413)\n",
    "\n",
    "****\n",
    "\n",
    "\n",
    "## 문제 설명\n",
    "\n",
    "`ANIMAL_OUTS` 테이블은 동물 보호소에서 입양 보낸 동물의 정보를 담은 테이블입니다. `ANIMAL_OUTS` 테이블 구조는 다음과 같으며, `ANIMAL_ID`, `ANIMAL_TYPE`, `DATETIME`, `NAME`, `SEX_UPON_OUTCOME`는 각각 동물의 아이디, 생물 종, 입양일, 이름, 성별 및 중성화 여부를 나타냅니다.\n",
    "\n",
    "\n",
    "| NAME             | TYPE       | NULLABLE |\n",
    "| ------------------ | ------------ | ---------- |\n",
    "| ANIMAL_ID        | VARCHAR(N) | FALSE    |\n",
    "| ANIMAL_TYPE      | VARCHAR(N) | FALSE    |\n",
    "| DATETIME         | DATETIME   | FALSE    |\n",
    "| NAME             | VARCHAR(N) | TRUE     |\n",
    "| SEX_UPON_OUTCOME | VARCHAR(N) | FALSE    |\n",
    "\n",
    "보호소에서는 몇 시에 입양이 가장 활발하게 일어나는지 알아보려 합니다. 0시부터 23시까지, 각 시간대별로 입양이 몇 건이나 발생했는지 조회하는 SQL문을 작성해주세요. 이때 결과는 시간대 순으로 정렬해야 합니다.\n",
    "\n",
    "## 예시\n",
    "\n",
    "SQL문을 실행하면 다음과 같이 나와야 합니다.\n",
    "\n",
    "\n",
    "| HOUR | COUNT |\n",
    "| ------ | ------- |\n",
    "| 0    | 0     |\n",
    "| 1    | 0     |\n",
    "| 2    | 0     |\n",
    "| 3    | 0     |\n",
    "| 4    | 0     |\n",
    "| 5    | 0     |\n",
    "| 6    | 0     |\n",
    "| 7    | 3     |\n",
    "| 8    | 1     |\n",
    "| 9    | 1     |\n",
    "| 10   | 2     |\n",
    "| 11   | 13    |\n",
    "| 12   | 10    |\n",
    "| 13   | 14    |\n",
    "| 14   | 9     |\n",
    "| 15   | 7     |\n",
    "| 16   | 10    |\n",
    "| 17   | 12    |\n",
    "| 18   | 16    |\n",
    "| 19   | 2     |\n",
    "| 20   | 0     |\n",
    "| 21   | 0     |\n",
    "| 22   | 0     |\n",
    "| 23   | 0     |\n",
    "\n",
    "## 풀이"
   ]
  },
  {
   "cell_type": "code",
   "execution_count": null,
   "metadata": {
    "vscode": {
     "languageId": "sql"
    }
   },
   "outputs": [],
   "source": [
    "WITH RECURSIVE TIME AS(\n",
    "SELECT 0 AS HOUR\n",
    "    UNION ALL\n",
    "    SELECT HOUR+1 FROM TIME WHERE HOUR < 23)\n",
    "SELECT HOUR, COUNT(HOUR(DATETIME)) AS 'COUNT'\n",
    "FROM TIME LEFT OUTER JOIN ANIMAL_OUTS\n",
    "ON (HOUR=HOUR(DATETIME))\n",
    "GROUP BY HOUR;"
   ]
  }
 ],
 "metadata": {
  "kernelspec": {
   "display_name": "Python 3.10.6 64-bit",
   "language": "python",
   "name": "python3"
  },
  "language_info": {
   "name": "python",
   "version": "3.10.6"
  },
  "orig_nbformat": 4,
  "vscode": {
   "interpreter": {
    "hash": "7e1998ff7f8aa20ada591c520b972326324e5ea05489af9e422744c7c09f6dad"
   }
  }
 },
 "nbformat": 4,
 "nbformat_minor": 2
}
