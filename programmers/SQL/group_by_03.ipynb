{
 "cells": [
  {
   "cell_type": "markdown",
   "metadata": {},
   "source": [
    "# [입양 시각 구하기(1)](https://school.programmers.co.kr/learn/courses/30/lessons/59412)\n",
    "\n",
    "## 문제 설명\n",
    "\n",
    "`ANIMAL_OUTS` 테이블은 동물 보호소에서 입양 보낸 동물의 정보를 담은 테이블입니다. `ANIMAL_OUTS` 테이블 구조는 다음과 같으며, `ANIMAL_ID`, `ANIMAL_TYPE`, `DATETIME`, `NAME`, `SEX_UPON_OUTCOME`는 각각 동물의 아이디, 생물 종, 입양일, 이름, 성별 및 중성화 여부를 나타냅니다.\n",
    "\n",
    "\n",
    "| NAME             | TYPE       | NULLABLE |\n",
    "| ------------------ | ------------ | ---------- |\n",
    "| ANIMAL_ID        | VARCHAR(N) | FALSE    |\n",
    "| ANIMAL_TYPE      | VARCHAR(N) | FALSE    |\n",
    "| DATETIME         | DATETIME   | FALSE    |\n",
    "| NAME             | VARCHAR(N) | TRUE     |\n",
    "| SEX_UPON_OUTCOME | VARCHAR(N) | FALSE    |\n",
    "\n",
    "보호소에서는 몇 시에 입양이 가장 활발하게 일어나는지 알아보려 합니다. 09:00부터 19:59까지, 각 시간대별로 입양이 몇 건이나 발생했는지 조회하는 SQL문을 작성해주세요. 이때 결과는 시간대 순으로 정렬해야 합니다.\n",
    "\n",
    "## 예시\n",
    "\n",
    "SQL문을 실행하면 다음과 같이 나와야 합니다.\n",
    "\n",
    "\n",
    "| HOUR | COUNT |\n",
    "| ------ | ------- |\n",
    "| 9    | 1     |\n",
    "| 10   | 2     |\n",
    "| 11   | 13    |\n",
    "| 12   | 10    |\n",
    "| 13   | 14    |\n",
    "| 14   | 9     |\n",
    "| 15   | 7     |\n",
    "| 16   | 10    |\n",
    "| 17   | 12    |\n",
    "| 18   | 16    |\n",
    "| 19   | 2     |\n",
    "\n",
    "## 풀이"
   ]
  },
  {
   "cell_type": "code",
   "execution_count": null,
   "metadata": {
    "vscode": {
     "languageId": "sql"
    }
   },
   "outputs": [],
   "source": [
    "-- 코드를 입력하세요\n",
    "SELECT HOUR(DATETIME) AS HOUR, COUNT(*) COUNT\n",
    "FROM ANIMAL_OUTS\n",
    "# WHERE HOUR(DATETIME)>= 9 AND HOUR(DATETIME)<20\n",
    "GROUP BY HOUR(DATETIME)\n",
    "HAVING HOUR BETWEEN 9 AND 19\n",
    "ORDER BY HOUR(DATETIME) ASC;"
   ]
  },
  {
   "cell_type": "code",
   "execution_count": null,
   "metadata": {
    "vscode": {
     "languageId": "sql"
    }
   },
   "outputs": [],
   "source": [
    "SELECT HOUR(DATETIME) AS HOUR, COUNT(*) AS COUNT\n",
    "FROM ANIMAL_OUTS\n",
    "-- WHERE HOUR(DATETIME)>= 9 AND HOUR(DATETIME)<20\n",
    "WHERE HOUR(DATETIME) BETWEEN 9 AND 20\n",
    "GROUP BY HOUR(DATETIME) \n",
    "-- HAVING HOUR BETWEEN 9 AND 19\n",
    "ORDER BY HOUR;"
   ]
  }
 ],
 "metadata": {
  "kernelspec": {
   "display_name": "Python 3.10.6 64-bit",
   "language": "python",
   "name": "python3"
  },
  "language_info": {
   "name": "python",
   "version": "3.10.6"
  },
  "orig_nbformat": 4,
  "vscode": {
   "interpreter": {
    "hash": "7e1998ff7f8aa20ada591c520b972326324e5ea05489af9e422744c7c09f6dad"
   }
  }
 },
 "nbformat": 4,
 "nbformat_minor": 2
}
