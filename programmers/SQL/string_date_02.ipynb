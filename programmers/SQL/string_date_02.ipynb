{
 "cells": [
  {
   "cell_type": "markdown",
   "metadata": {},
   "source": [
    "# [이름에 el이 들어가는 동물 찾기](https://school.programmers.co.kr/learn/courses/30/lessons/59047)\n",
    "\n",
    "## 문제 설명\n",
    "\n",
    "`ANIMAL_INS` 테이블은 동물 보호소에 들어온 동물의 정보를 담은 테이블입니다. `ANIMAL_INS` 테이블 구조는 다음과 같으며, `ANIMAL_ID`, `ANIMAL_TYPE`, `DATETIME`, `INTAKE_CONDITION`, `NAME`, `SEX_UPON_INTAKE`는 각각 동물의 아이디, 생물 종, 보호 시작일, 보호 시작 시 상태, 이름, 성별 및 중성화 여부를 나타냅니다.\n",
    "\n",
    "\n",
    "| NAME             | TYPE       | NULLABLE |\n",
    "| ------------------ | ------------ | ---------- |\n",
    "| ANIMAL_ID        | VARCHAR(N) | FALSE    |\n",
    "| ANIMAL_TYPE      | VARCHAR(N) | FALSE    |\n",
    "| DATETIME         | DATETIME   | FALSE    |\n",
    "| INTAKE_CONDITION | VARCHAR(N) | FALSE    |\n",
    "| NAME             | VARCHAR(N) | TRUE     |\n",
    "| SEX_UPON_INTAKE  | VARCHAR(N) | FALSE    |\n",
    "\n",
    "보호소에 돌아가신 할머니가 기르던 개를 찾는 사람이 찾아왔습니다. 이 사람이 말하길 할머니가 기르던 개는 이름에 'el'이 들어간다고 합니다. 동물 보호소에 들어온 동물 이름 중, 이름에 \"EL\"이 들어가는 개의 아이디와 이름을 조회하는 SQL문을 작성해주세요. 이때 결과는 이름 순으로 조회해주세요. 단, 이름의 대소문자는 구분하지 않습니다.\n",
    "\n",
    "##### 예시\n",
    "\n",
    "예를 들어 `ANIMAL_INS` 테이블이 다음과 같다면\n",
    "\n",
    "\n",
    "| ANIMAL_ID | ANIMAL_TYPE | DATETIME            | INTAKE_CONDITION | NAME         | SEX_UPON_INTAKE |\n",
    "| ----------- | ------------- | --------------------- | ------------------ | -------------- | ----------------- |\n",
    "| A355753   | Dog         | 2015-09-10 13:14:00 | Normal           | Elijah       | Neutered Male   |\n",
    "| A352872   | Dog         | 2015-07-09 17:51:00 | Aged             | Peanutbutter | Neutered Male   |\n",
    "| A353259   | Dog         | 2016-05-08 12:57:00 | Injured          | Bj           | Neutered Male   |\n",
    "| A373219   | Cat         | 2014-07-29 11:43:00 | Normal           | Ella         | Spayed Female   |\n",
    "| A382192   | Dog         | 2015-03-13 13:14:00 | Normal           | Maxwell 2    | Intact Male     |\n",
    "\n",
    "* 이름에 'el'이 들어가는 동물은 Elijah, Ella, Maxwell 2입니다.\n",
    "* 이 중, 개는 Elijah, Maxwell 2입니다.\n",
    "\n",
    "따라서 SQL문을 실행하면 다음과 같이 나와야 합니다.\n",
    "\n",
    "\n",
    "| ANIMAL_ID | NAME      |\n",
    "| ----------- | ----------- |\n",
    "| A355753   | Elijah    |\n",
    "| A382192   | Maxwell 2 |\n",
    "\n",
    "## 풀이\n"
   ]
  },
  {
   "cell_type": "code",
   "execution_count": null,
   "metadata": {
    "vscode": {
     "languageId": "sql"
    }
   },
   "outputs": [],
   "source": [
    "SELECT ANIMAL_ID, NAME FROM ANIMAL_INS\n",
    "WHERE NAME LIKE '%EL%' AND ANIMAL_TYPE = \"DOG\"\n",
    "ORDER BY NAME;"
   ]
  }
 ],
 "metadata": {
  "kernelspec": {
   "display_name": "Python 3.10.6 64-bit",
   "language": "python",
   "name": "python3"
  },
  "language_info": {
   "name": "python",
   "version": "3.10.6"
  },
  "orig_nbformat": 4,
  "vscode": {
   "interpreter": {
    "hash": "7e1998ff7f8aa20ada591c520b972326324e5ea05489af9e422744c7c09f6dad"
   }
  }
 },
 "nbformat": 4,
 "nbformat_minor": 2
}
