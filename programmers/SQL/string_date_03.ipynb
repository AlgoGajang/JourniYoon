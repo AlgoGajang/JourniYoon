{
 "cells": [
  {
   "cell_type": "markdown",
   "metadata": {},
   "source": [
    "# [중성화 여부 파악하기](https://school.programmers.co.kr/learn/courses/30/lessons/59409)\n",
    "\n",
    "\n",
    "## 문제 설명\n",
    "\n",
    "`ANIMAL_INS` 테이블은 동물 보호소에 들어온 동물의 정보를 담은 테이블입니다. `ANIMAL_INS` 테이블 구조는 다음과 같으며, `ANIMAL_ID`, `ANIMAL_TYPE`, `DATETIME`, `INTAKE_CONDITION`, `NAME`, `SEX_UPON_INTAKE`는 각각 동물의 아이디, 생물 종, 보호 시작일, 보호 시작 시 상태, 이름, 성별 및 중성화 여부를 나타냅니다.\n",
    "\n",
    "\n",
    "| NAME             | TYPE       | NULLABLE |\n",
    "| ------------------ | ------------ | ---------- |\n",
    "| ANIMAL_ID        | VARCHAR(N) | FALSE    |\n",
    "| ANIMAL_TYPE      | VARCHAR(N) | FALSE    |\n",
    "| DATETIME         | DATETIME   | FALSE    |\n",
    "| INTAKE_CONDITION | VARCHAR(N) | FALSE    |\n",
    "| NAME             | VARCHAR(N) | TRUE     |\n",
    "| SEX_UPON_INTAKE  | VARCHAR(N) | FALSE    |\n",
    "\n",
    "보호소의 동물이 중성화되었는지 아닌지 파악하려 합니다. 중성화된 동물은 `SEX_UPON_INTAKE` 컬럼에 'Neutered' 또는 'Spayed'라는 단어가 들어있습니다. 동물의 아이디와 이름, 중성화 여부를 아이디 순으로 조회하는 SQL문을 작성해주세요. 이때 중성화가 되어있다면 'O', 아니라면 'X'라고 표시해주세요.\n",
    "\n",
    "## 예시\n",
    "\n",
    "예를 들어 `ANIMAL_INS` 테이블이 다음과 같다면\n",
    "\n",
    "\n",
    "| ANIMAL_ID | ANIMAL_TYPE | DATETIME            | INTAKE_CONDITION | NAME      | SEX_UPON_INTAKE |\n",
    "| ----------- | ------------- | --------------------- | ------------------ | ----------- | ----------------- |\n",
    "| A355753   | Dog         | 2015-09-10 13:14:00 | Normal           | Elijah    | Neutered Male   |\n",
    "| A373219   | Cat         | 2014-07-29 11:43:00 | Normal           | Ella      | Spayed Female   |\n",
    "| A382192   | Dog         | 2015-03-13 13:14:00 | Normal           | Maxwell 2 | Intact Male     |\n",
    "\n",
    "* 중성화한 동물: Elijah, Ella\n",
    "* 중성화하지 않은 동물: Maxwell 2\n",
    "\n",
    "따라서 SQL문을 실행하면 다음과 같이 나와야 합니다.\n",
    "\n",
    "\n",
    "| ANIMAL_ID | NAME      | 중성화 |\n",
    "| ----------- | ----------- | -------- |\n",
    "| A355753   | Elijah    | O      |\n",
    "| A373219   | Ella      | O      |\n",
    "| A382192   | Maxwell 2 | X      |\n",
    "\n",
    "※ 컬럼 이름은 일치하지 않아도 됩니다.\n",
    "\n",
    "## 풀이"
   ]
  },
  {
   "cell_type": "code",
   "execution_count": null,
   "metadata": {
    "vscode": {
     "languageId": "sql"
    }
   },
   "outputs": [],
   "source": [
    "SELECT ANIMAL_ID, NAME,\n",
    "CASE\n",
    "WHEN NOT SEX_UPON_INTAKE LIKE\"%Intact%\" THEN \"O\"\n",
    "ELSE \"X\"\n",
    "END 중성화\n",
    "FROM ANIMAL_INS\n",
    "ORDER BY ANIMAL_ID;"
   ]
  }
 ],
 "metadata": {
  "kernelspec": {
   "display_name": "Python 3.10.6 64-bit",
   "language": "python",
   "name": "python3"
  },
  "language_info": {
   "name": "python",
   "version": "3.10.6"
  },
  "orig_nbformat": 4,
  "vscode": {
   "interpreter": {
    "hash": "7e1998ff7f8aa20ada591c520b972326324e5ea05489af9e422744c7c09f6dad"
   }
  }
 },
 "nbformat": 4,
 "nbformat_minor": 2
}
