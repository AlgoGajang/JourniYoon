{
 "cells": [
  {
   "cell_type": "markdown",
   "metadata": {},
   "source": [
    "# [이름이 없는 동물의 아이디](https://school.programmers.co.kr/learn/courses/30/lessons/59039)\n",
    "###### 문제 설명\n",
    "\n",
    "`ANIMAL_INS` 테이블은 동물 보호소에 들어온 동물의 정보를 담은 테이블입니다. `ANIMAL_INS` 테이블 구조는 다음과 같으며, `ANIMAL_ID`, `ANIMAL_TYPE`, `DATETIME`, `INTAKE_CONDITION`, `NAME`, `SEX_UPON_INTAKE`는 각각 동물의 아이디, 생물 종, 보호 시작일, 보호 시작 시 상태, 이름, 성별 및 중성화 여부를 나타냅니다.\n",
    "\n",
    "\n",
    "| NAME             | TYPE       | NULLABLE |\n",
    "| ------------------ | ------------ | ---------- |\n",
    "| ANIMAL_ID        | VARCHAR(N) | FALSE    |\n",
    "| ANIMAL_TYPE      | VARCHAR(N) | FALSE    |\n",
    "| DATETIME         | DATETIME   | FALSE    |\n",
    "| INTAKE_CONDITION | VARCHAR(N) | FALSE    |\n",
    "| NAME             | VARCHAR(N) | TRUE     |\n",
    "| SEX_UPON_INTAKE  | VARCHAR(N) | FALSE    |\n",
    "\n",
    "동물 보호소에 들어온 동물 중, 이름이 없는 채로 들어온 동물의 ID를 조회하는 SQL 문을 작성해주세요. 단, ID는 오름차순 정렬되어야 합니다.\n",
    "\n",
    "##### 예시\n",
    "\n",
    "예를 들어 `ANIMAL_INS` 테이블이 다음과 같다면\n",
    "\n",
    "\n",
    "| ANIMAL_ID | ANIMAL_TYPE | DATETIME            | INTAKE_CONDITION | NAME       | SEX_UPON_INTAKE |\n",
    "| ----------- | ------------- | --------------------- | ------------------ | ------------ | ----------------- |\n",
    "| A368930   | Dog         | 2014-06-08 13:20:00 | Normal           | NULL       | Spayed Female   |\n",
    "| A524634   | Dog         | 2015-01-02 18:54:00 | Normal           | *Belle     | Intact Female   |\n",
    "| A465637   | Dog         | 2017-06-04 08:17:00 | Injured          | *Commander | Neutered Male   |\n",
    "\n",
    "이름이 없는 채로 들어온 동물의 ID는 A368930입니다. 따라서 SQL을 실행하면 다음과 같이 출력되어야 합니다.\n",
    "\n",
    "\n",
    "| ANIMAL_ID |\n",
    "| ----------- |\n",
    "| A368930   |\n",
    "## 풀이 "
   ]
  },
  {
   "cell_type": "code",
   "execution_count": null,
   "metadata": {
    "vscode": {
     "languageId": "sql"
    }
   },
   "outputs": [],
   "source": [
    "SELECT ANIMAL_ID\n",
    "FROM ANIMAL_INS\n",
    "WHERE NAME IS NULL\n",
    "ORDER BY ANIMAL_ID;"
   ]
  }
 ],
 "metadata": {
  "kernelspec": {
   "display_name": "Python 3.10.6 64-bit",
   "language": "python",
   "name": "python3"
  },
  "language_info": {
   "name": "python",
   "version": "3.10.6"
  },
  "orig_nbformat": 4,
  "vscode": {
   "interpreter": {
    "hash": "7e1998ff7f8aa20ada591c520b972326324e5ea05489af9e422744c7c09f6dad"
   }
  }
 },
 "nbformat": 4,
 "nbformat_minor": 2
}
