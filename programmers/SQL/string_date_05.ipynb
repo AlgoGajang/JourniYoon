{
 "cells": [
  {
   "cell_type": "markdown",
   "metadata": {},
   "source": [
    "# [DATETIME에서 DATE로 형 변환](https://school.programmers.co.kr/learn/courses/30/lessons/59414)\n",
    "\n",
    "## 문제 설명\n",
    "\n",
    "`ANIMAL_INS` 테이블은 동물 보호소에 들어온 동물의 정보를 담은 테이블입니다. `ANIMAL_INS` 테이블 구조는 다음과 같으며, `ANIMAL_ID`, `ANIMAL_TYPE`, `DATETIME`, `INTAKE_CONDITION`, `NAME`, `SEX_UPON_INTAKE`는 각각 동물의 아이디, 생물 종, 보호 시작일, 보호 시작 시 상태, 이름, 성별 및 중성화 여부를 나타냅니다.\n",
    "\n",
    "\n",
    "| NAME             | TYPE       | NULLABLE |\n",
    "| ------------------ | ------------ | ---------- |\n",
    "| ANIMAL_ID        | VARCHAR(N) | FALSE    |\n",
    "| ANIMAL_TYPE      | VARCHAR(N) | FALSE    |\n",
    "| DATETIME         | DATETIME   | FALSE    |\n",
    "| INTAKE_CONDITION | VARCHAR(N) | FALSE    |\n",
    "| NAME             | VARCHAR(N) | TRUE     |\n",
    "| SEX_UPON_INTAKE  | VARCHAR(N) | FALSE    |\n",
    "\n",
    "`ANIMAL_INS` 테이블에 등록된 모든 레코드에 대해, 각 동물의 아이디와 이름, 들어온 날짜^[1](https://school.programmers.co.kr/learn/courses/30/lessons/59414#fn1)^ 를 조회하는 SQL문을 작성해주세요. 이때 결과는 아이디 순으로 조회해야 합니다.\n",
    "\n",
    "## 예시\n",
    "\n",
    "예를 들어, `ANIMAL_INS` 테이블이 다음과 같다면\n",
    "\n",
    "`ANIMAL_INS`\n",
    "\n",
    "\n",
    "| ANIMAL_ID | ANIMAL_TYPE | DATETIME            | INTAKE_CONDITION | NAME   | SEX_UPON_INTAKE |\n",
    "| ----------- | ------------- | --------------------- | ------------------ | -------- | ----------------- |\n",
    "| A349996   | Cat         | 2018-01-22 14:32:00 | Normal           | Sugar  | Neutered Male   |\n",
    "| A350276   | Cat         | 2017-08-13 13:50:00 | Normal           | Jewel  | Spayed Female   |\n",
    "| A350375   | Cat         | 2017-03-06 15:01:00 | Normal           | Meo    | Neutered Male   |\n",
    "| A352555   | Dog         | 2014-08-08 04:20:00 | Normal           | Harley | Spayed Female   |\n",
    "| A352713   | Cat         | 2017-04-13 16:29:00 | Normal           | Gia    | Spayed Female   |\n",
    "\n",
    "SQL문을 실행하면 다음과 같이 나와야 합니다.\n",
    "\n",
    "\n",
    "| ANIMAL_ID | NAME   | 날짜       |\n",
    "| ----------- | -------- | ------------ |\n",
    "| A349996   | Sugar  | 2018-01-22 |\n",
    "| A350276   | Jewel  | 2017-08-13 |\n",
    "| A350375   | Meo    | 2017-03-06 |\n",
    "| A352555   | Harley | 2014-08-08 |\n",
    "| A352713   | Gia    | 2017-04-13 |\n",
    "\n",
    "---\n",
    "\n",
    "1. 시각(시-분-초)을 제외한 날짜(년-월-일)만 보여주세요.\n",
    "\n",
    "## 풀이"
   ]
  },
  {
   "cell_type": "code",
   "execution_count": null,
   "metadata": {
    "vscode": {
     "languageId": "sql"
    }
   },
   "outputs": [],
   "source": [
    "SELECT ANIMAL_ID, NAME, DATE_FORMAT(DATETIME, \"%Y-%m-%d\") as 날짜\n",
    "FROM ANIMAL_INS\n",
    "ORDER BY ANIMAL_ID;"
   ]
  }
 ],
 "metadata": {
  "kernelspec": {
   "display_name": "Python 3.10.6 64-bit",
   "language": "python",
   "name": "python3"
  },
  "language_info": {
   "name": "python",
   "version": "3.10.6"
  },
  "orig_nbformat": 4,
  "vscode": {
   "interpreter": {
    "hash": "7e1998ff7f8aa20ada591c520b972326324e5ea05489af9e422744c7c09f6dad"
   }
  }
 },
 "nbformat": 4,
 "nbformat_minor": 2
}
